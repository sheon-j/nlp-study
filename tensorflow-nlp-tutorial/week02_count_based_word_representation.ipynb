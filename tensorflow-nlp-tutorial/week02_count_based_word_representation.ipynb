{
  "nbformat": 4,
  "nbformat_minor": 0,
  "metadata": {
    "colab": {
      "name": "Untitled4.ipynb",
      "provenance": [],
      "authorship_tag": "ABX9TyO1Kmpp1pmhAzyKFn1162H9",
      "include_colab_link": true
    },
    "kernelspec": {
      "name": "python3",
      "display_name": "Python 3"
    },
    "language_info": {
      "name": "python"
    }
  },
  "cells": [
    {
      "cell_type": "markdown",
      "metadata": {
        "id": "view-in-github",
        "colab_type": "text"
      },
      "source": [
        "<a href=\"https://colab.research.google.com/github/sheon-j/nlp-study/blob/main/tensorflow-nlp-tutorial/week02_count_based_word_representation.ipynb\" target=\"_parent\"><img src=\"https://colab.research.google.com/assets/colab-badge.svg\" alt=\"Open In Colab\"/></a>"
      ]
    },
    {
      "cell_type": "markdown",
      "source": [
        "# NLP Study: Week 2 - Count based word Representation\n",
        "\n",
        "[딥 러닝을 이용한 자연어 처리 입문](https://wikidocs.net/book/2155) 스터디\n",
        "\n",
        "---\n",
        "\n",
        "**Contents**\n",
        "1. 다양한 단어의 표현 방법\n",
        "2. Bag of Words(BoW)\n",
        "3. 문서 단어 행렬(Document-Term Matrix, DTM)\n",
        "4. TF-IDF(Term Frequency-Inverse Document Frequency)"
      ],
      "metadata": {
        "id": "CFzHNZcrwYf3"
      }
    },
    {
      "cell_type": "markdown",
      "source": [
        "## 1. 다양한 단어의 표현 방법\n",
        "카운트 기반의 단어 표현 외 다양한 표현 방법을 알아보자"
      ],
      "metadata": {
        "id": "VSprINKIUUli"
      }
    },
    {
      "cell_type": "markdown",
      "source": [
        "### 1.1. 단어의 표현 방법\n",
        "#### (1) 국소 표현 (Local Representation)\n",
        "* a.k.a 이산 표현 (Discrete Representation)\n",
        "* 단어 그 자체만 보고 특정 값을 맵핑하여 표현\n",
        "\n",
        "#### (2) 분산 표현\n",
        "* a.k.a 연속 표현 (Continuous Represnetation)\n",
        "* 단어를 표현하고자 주변을 참고하여 표현\n",
        "* 단어의 의미, 뉘앙스를 표현"
      ],
      "metadata": {
        "id": "OSbP2wj-Uher"
      }
    },
    {
      "cell_type": "markdown",
      "source": [
        "### 1.2. 단어 표현의 카테고리화"
      ],
      "metadata": {
        "id": "bibklKuTUqEY"
      }
    },
    {
      "cell_type": "markdown",
      "source": [
        "## 2. Bag of Words(BoW)\n"
      ],
      "metadata": {
        "id": "Ot5XEjDiUUjL"
      }
    },
    {
      "cell_type": "markdown",
      "source": [
        "### 2.1. Bag of Words란?\n"
      ],
      "metadata": {
        "id": "TxesT2VtUy2y"
      }
    },
    {
      "cell_type": "markdown",
      "source": [
        "### 2.2. 다양한 예제들\n"
      ],
      "metadata": {
        "id": "D9NWmOZRVM0S"
      }
    },
    {
      "cell_type": "markdown",
      "source": [
        "### 2.3. CountVectorizer 클래스로 BoW 만들기"
      ],
      "metadata": {
        "id": "Se1rr-MEVPfh"
      }
    },
    {
      "cell_type": "markdown",
      "source": [
        "### 2.4. 불용어를 제거한 BoW"
      ],
      "metadata": {
        "id": "r9udBimUVPdR"
      }
    },
    {
      "cell_type": "markdown",
      "source": [
        "## 3. 문서 단어 행렬(Document-Term Matrix, DTM)\n"
      ],
      "metadata": {
        "id": "1_yZvLtEUUeT"
      }
    },
    {
      "cell_type": "markdown",
      "source": [
        "### 3.1. 문서 단어 행렬(Document-Term Matrix, DTM)의 표기법"
      ],
      "metadata": {
        "id": "uCl5gd57VXCg"
      }
    },
    {
      "cell_type": "markdown",
      "source": [
        "### 3.2. 문서 단어 행렬(Document-Term Matrix)의 한계\n",
        "\n",
        "#### (1) 희소 표현(Sparse representation)\n",
        "#### (2) 단순 빈도 수 기반 접근"
      ],
      "metadata": {
        "id": "upk7gO1sVhJX"
      }
    },
    {
      "cell_type": "markdown",
      "source": [
        "## 4. TF-IDF(Term Frequency-Inverse Document Frequency)"
      ],
      "metadata": {
        "id": "PRQ91N-uUUar"
      }
    },
    {
      "cell_type": "markdown",
      "source": [
        "### 4.1. TF-IDF(단어 빈도-역 문서 빈도, Term Frequency-Inverse Document Frequency)\n",
        "#### (1) tf(d,t) : 특정 문서 d에서의 특정 단어 t의 등장 횟수\n",
        "#### (2) df(t) : 특정 단어 t가 등장한 문서의 수\n",
        "#### (3) idf(d, t) : df(t)에 반비례하는 수\n"
      ],
      "metadata": {
        "id": "NrK4ydUeVhtE"
      }
    },
    {
      "cell_type": "markdown",
      "source": [
        "### 4.2. 파이썬으로 TF-IDF 직접 구현하기"
      ],
      "metadata": {
        "id": "G2AVKtOzWOf0"
      }
    },
    {
      "cell_type": "markdown",
      "source": [
        "### 4.3. 사이킷런을 이용한 DTM과 TF-IDF 실습"
      ],
      "metadata": {
        "id": "IlQOVTnvWOyM"
      }
    }
  ]
}