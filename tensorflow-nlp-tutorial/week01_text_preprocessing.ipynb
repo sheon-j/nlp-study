{
  "nbformat": 4,
  "nbformat_minor": 0,
  "metadata": {
    "colab": {
      "name": "Untitled4.ipynb",
      "provenance": [],
      "authorship_tag": "ABX9TyNxsqHKo2/a6QYo5pv/OMnk",
      "include_colab_link": true
    },
    "kernelspec": {
      "name": "python3",
      "display_name": "Python 3"
    },
    "language_info": {
      "name": "python"
    }
  },
  "cells": [
    {
      "cell_type": "markdown",
      "metadata": {
        "id": "view-in-github",
        "colab_type": "text"
      },
      "source": [
        "<a href=\"https://colab.research.google.com/github/sheon-j/nlp-study/blob/main/tensorflow-nlp-tutorial/week01_text_preprocessing.ipynb\" target=\"_parent\"><img src=\"https://colab.research.google.com/assets/colab-badge.svg\" alt=\"Open In Colab\"/></a>"
      ]
    },
    {
      "cell_type": "markdown",
      "source": [
        "# NLP Study: Week 1\n",
        "\n",
        "[딥 러닝을 이용한 자연어 처리 입문](https://wikidocs.net/book/2155) 스터디\n",
        "\n",
        "---\n",
        "\n",
        "**Contents**\n",
        "1. 머신 러닝 워크플로우\n",
        "2. 판다스\n",
        "3. 넘파이\n",
        "4. 맷플롯립\n",
        "5. 텍스트 전처리"
      ],
      "metadata": {
        "id": "CFzHNZcrwYf3"
      }
    },
    {
      "cell_type": "markdown",
      "source": [
        "## 1. 머신 러닝 워크플로우\n",
        "\n",
        "데이터를 수집하고 머신 러닝을 하는 과정을 크게 6가지로 나누면, 아래의 그림과 같다.\n",
        "\n",
        "![ml_workflow](https://wikidocs.net/images/page/31947/머신_러닝_워크플로우.PNG)"
      ],
      "metadata": {
        "id": "OD-ZrhL1xpQX"
      }
    },
    {
      "cell_type": "markdown",
      "source": [
        "### 1.1. 수집\n",
        "* 머신 러닝을 하기 위해서는 기계에 학습시켜야 할 데이터\n",
        "* 자연어 데이터를 말뭉치 또는 코퍼스(corpus)라 부름\n",
        "* 조사나 연구 목적에 의해서 특정 도메인으로부터 수집된 텍스트 집합"
      ],
      "metadata": {
        "id": "wqJSon4giyuq"
      }
    },
    {
      "cell_type": "markdown",
      "source": [
        "\n",
        "### 1.2. 점검 및 탐색\n",
        "* 데이터의 구조, 노이즈 데이터, 머신 러닝 적용을 위해서 데이터를 어떻게 정제해야하는지 등을 파악\n",
        "* 탐색적 데이터 분석(Exploratory Data Analysis, EDA)\n",
        "* 독립 변수, 종속 변수, 변수 유형, 변수의 데이터 타입 등을 점검\n",
        "* 데이터의 특징과 내재하는 구조적 관계를 알아내는 과정\n",
        "* 시각화와 간단한 통계 테스트를 진행"
      ],
      "metadata": {
        "id": "B--cXeA0i0a_"
      }
    },
    {
      "cell_type": "markdown",
      "source": [
        "### 1.3. 전처리 및 정제\n",
        "* 자연어 처리라면 토큰화, 정제, 정규화, 불용어 제거 등의 단계를 포함\n",
        "* 전처리를 위한 다양한 라이브러리에 대한 지식이 필요\n",
        "* 까다로운 전처리 과정은 머신 러닝이 사용되기도 함"
      ],
      "metadata": {
        "id": "rt79fVyLi2aI"
      }
    },
    {
      "cell_type": "markdown",
      "source": [
        "### 1.4. 모델링 및 훈련\n",
        "* 머신 러닝에 대한 코드를 작성하는 단계\n",
        "* 적절한 머신 러닝 알고리즘을 선택하여 모델링\n",
        "* 전처리 된 데이터를 머신 러닝 알고리즘을 통해 기계에 학습\n",
        "* 훈련 후 기계는 원하는 태스크인 기계 번역, 음성 인식, 텍스트 분류 등의 자연어 처리 작업을 수행\n",
        "* 데이터 중 일부는 테스트용으로 남겨두고 훈련용 데이터만 훈련에 사용\n",
        "* 성능이 얼마나 되는지를 측정, 과적합 상황을 막음\n",
        "* 최선은 훈련용, 검증용, 테스트용의 세 가지 데이터로 나누고 훈련용 데이터만 훈련에 사용"
      ],
      "metadata": {
        "id": "YDqKcaVQi4BQ"
      }
    },
    {
      "cell_type": "markdown",
      "source": [
        "### 1.5. 평가\n",
        "* 테스트용 데이터로 성능을 평가\n",
        "* 기계가 예측한 데이터가 테스트용 데이터의 실제 정답과 얼마나 가까운지를 측정"
      ],
      "metadata": {
        "id": "Tys1Hcj3i5dw"
      }
    },
    {
      "cell_type": "markdown",
      "source": [
        "### 1.6. 배포\n",
        "* 완성된 모델이 배포되는 단계\n",
        "* 피드백으로 모델 업데이트 상황이 온다면 수집 단계로 돌아감"
      ],
      "metadata": {
        "id": "cCdLCTrbi6yd"
      }
    },
    {
      "cell_type": "markdown",
      "source": [
        "## 2. 판다스\n",
        "\n"
      ],
      "metadata": {
        "id": "-82Iw6YA0XVN"
      }
    },
    {
      "cell_type": "markdown",
      "source": [
        "### 2.1. Series"
      ],
      "metadata": {
        "id": "VV5J1l67hC_3"
      }
    },
    {
      "cell_type": "code",
      "source": [
        "import pandas as pd"
      ],
      "metadata": {
        "id": "kYKS7fwnxkxb"
      },
      "execution_count": 1,
      "outputs": []
    },
    {
      "cell_type": "code",
      "source": [
        "# 시리즈\n",
        "sr = pd.Series([17000, 18000, 1000, 5000],\n",
        "               index=[\"피자\", \"치킨\", \"콜라\", \"맥주\"])\n",
        "print(sr)"
      ],
      "metadata": {
        "colab": {
          "base_uri": "https://localhost:8080/"
        },
        "id": "olG8kJ2PhH-x",
        "outputId": "b03b1398-60d5-4bd9-d35b-c32839c3473a"
      },
      "execution_count": 3,
      "outputs": [
        {
          "output_type": "stream",
          "name": "stdout",
          "text": [
            "피자    17000\n",
            "치킨    18000\n",
            "콜라     1000\n",
            "맥주     5000\n",
            "dtype: int64\n"
          ]
        }
      ]
    },
    {
      "cell_type": "code",
      "source": [
        "print('Value : {}'.format(sr.values))       # 값\n",
        "print('Index : {}'.format(list(sr.index)))  # 인덱스"
      ],
      "metadata": {
        "colab": {
          "base_uri": "https://localhost:8080/"
        },
        "id": "iKRn3HE1hO6q",
        "outputId": "da96f9d6-543e-448b-811c-7410179f9a2e"
      },
      "execution_count": 7,
      "outputs": [
        {
          "output_type": "stream",
          "name": "stdout",
          "text": [
            "Values : [17000 18000  1000  5000]\n",
            "Index : ['피자', '치킨', '콜라', '맥주']\n"
          ]
        }
      ]
    },
    {
      "cell_type": "markdown",
      "source": [
        "### 2.2. Data Frame"
      ],
      "metadata": {
        "id": "6nIfUDn-hYVU"
      }
    },
    {
      "cell_type": "code",
      "source": [
        "# 데이터프레임\n",
        "values = [[1, 2, 3], [4, 5, 6], [7, 8, 9]]\n",
        "index = ['one', 'two', 'three']\n",
        "columns = ['A', 'B', 'C']\n",
        "\n",
        "df = pd.DataFrame(values, index=index, columns=columns)\n",
        "\n",
        "print(df)"
      ],
      "metadata": {
        "colab": {
          "base_uri": "https://localhost:8080/"
        },
        "id": "CGrIxD3QhbJK",
        "outputId": "c63d95e5-7a4a-4dbf-a416-f9d6629e366c"
      },
      "execution_count": 6,
      "outputs": [
        {
          "output_type": "stream",
          "name": "stdout",
          "text": [
            "       A  B  C\n",
            "one    1  2  3\n",
            "two    4  5  6\n",
            "three  7  8  9\n"
          ]
        }
      ]
    },
    {
      "cell_type": "code",
      "source": [
        "print('Index : {}'.format(df.index))\n",
        "print('Column: {}'.format(df.columns))\n",
        "print('Value :')\n",
        "print(df.values)"
      ],
      "metadata": {
        "colab": {
          "base_uri": "https://localhost:8080/"
        },
        "id": "wnH-2tixhygw",
        "outputId": "d73b7074-7338-4a3d-dbc8-60f2915a0ef1"
      },
      "execution_count": 15,
      "outputs": [
        {
          "output_type": "stream",
          "name": "stdout",
          "text": [
            "Index : Index(['one', 'two', 'three'], dtype='object')\n",
            "Column: Index(['A', 'B', 'C'], dtype='object')\n",
            "Value :\n",
            "[[1 2 3]\n",
            " [4 5 6]\n",
            " [7 8 9]]\n"
          ]
        }
      ]
    },
    {
      "cell_type": "code",
      "source": [
        "# 리스트로 생성하기\n",
        "data = [\n",
        "    ['1000', 'Steve', 90.72], \n",
        "    ['1001', 'James', 78.09], \n",
        "    ['1002', 'Doyeon', 98.43], \n",
        "    ['1003', 'Jane', 64.19], \n",
        "    ['1004', 'Pilwoong', 81.30],\n",
        "    ['1005', 'Tony', 99.14],\n",
        "]\n",
        "df = pd.DataFrame(data, columns=['학번', '이름', '점수'])\n",
        "\n",
        "df = pd.DataFrame(data)\n",
        "print(df)"
      ],
      "metadata": {
        "colab": {
          "base_uri": "https://localhost:8080/"
        },
        "id": "fDkxGJ6hiKZU",
        "outputId": "baa4a7d8-94a4-4b65-f292-371386d6f1b9"
      },
      "execution_count": 18,
      "outputs": [
        {
          "output_type": "stream",
          "name": "stdout",
          "text": [
            "      0         1      2\n",
            "0  1000     Steve  90.72\n",
            "1  1001     James  78.09\n",
            "2  1002    Doyeon  98.43\n",
            "3  1003      Jane  64.19\n",
            "4  1004  Pilwoong  81.30\n",
            "5  1005      Tony  99.14\n"
          ]
        }
      ]
    },
    {
      "cell_type": "code",
      "source": [
        "# 딕셔너리로 생성하기\n",
        "data = {\n",
        "    '학번' : ['1000', '1001', '1002', '1003', '1004', '1005'],\n",
        "    '이름' : [ 'Steve', 'James', 'Doyeon', 'Jane', 'Pilwoong', 'Tony'],\n",
        "    '점수': [90.72, 78.09, 98.43, 64.19, 81.30, 99.14]\n",
        "    }\n",
        "\n",
        "df = pd.DataFrame(data)\n",
        "print(df)"
      ],
      "metadata": {
        "colab": {
          "base_uri": "https://localhost:8080/"
        },
        "id": "qEzhzljXiOTf",
        "outputId": "6320de0b-c341-41e4-86f6-436342c463c8"
      },
      "execution_count": 19,
      "outputs": [
        {
          "output_type": "stream",
          "name": "stdout",
          "text": [
            "     학번        이름     점수\n",
            "0  1000     Steve  90.72\n",
            "1  1001     James  78.09\n",
            "2  1002    Doyeon  98.43\n",
            "3  1003      Jane  64.19\n",
            "4  1004  Pilwoong  81.30\n",
            "5  1005      Tony  99.14\n"
          ]
        }
      ]
    },
    {
      "cell_type": "code",
      "source": [
        "# 앞 부분을 3개만 보기\n",
        "print(df.head(3))\n",
        "print(\"-\"*30)\n",
        "\n",
        "# 뒷 부분을 3개만 보기\n",
        "print(df.tail(3))\n",
        "print(\"-\"*30)\n",
        "\n",
        "# '학번'에 해당되는 열을 보기\n",
        "print(df['학번'])"
      ],
      "metadata": {
        "colab": {
          "base_uri": "https://localhost:8080/"
        },
        "id": "BKoHDz1viXMY",
        "outputId": "c320063b-ac52-43f0-ee63-860cd36237e0"
      },
      "execution_count": 26,
      "outputs": [
        {
          "output_type": "stream",
          "name": "stdout",
          "text": [
            "     학번      이름     점수\n",
            "0  1000   Steve  90.72\n",
            "1  1001   James  78.09\n",
            "2  1002  Doyeon  98.43\n",
            "------------------------------\n",
            "     학번        이름     점수\n",
            "3  1003      Jane  64.19\n",
            "4  1004  Pilwoong  81.30\n",
            "5  1005      Tony  99.14\n",
            "------------------------------\n",
            "0    1000\n",
            "1    1001\n",
            "2    1002\n",
            "3    1003\n",
            "4    1004\n",
            "5    1005\n",
            "Name: 학번, dtype: object\n"
          ]
        }
      ]
    },
    {
      "cell_type": "markdown",
      "source": [
        "## 3. 넘파이"
      ],
      "metadata": {
        "id": "mYVbWTxvjK9Y"
      }
    },
    {
      "cell_type": "code",
      "source": [
        "import numpy as np"
      ],
      "metadata": {
        "id": "4xPX3pgvjSjZ"
      },
      "execution_count": 28,
      "outputs": []
    },
    {
      "cell_type": "markdown",
      "source": [
        "### 3.1. np.array()"
      ],
      "metadata": {
        "id": "ADgzJsXnjXMG"
      }
    },
    {
      "cell_type": "code",
      "source": [
        "# 1차원 배열\n",
        "vec = np.array([1, 2, 3, 4, 5])\n",
        "print(vec)"
      ],
      "metadata": {
        "colab": {
          "base_uri": "https://localhost:8080/"
        },
        "id": "E4ZVMp1RjVXZ",
        "outputId": "cc52da6e-6731-4249-940c-e474b79a2d2b"
      },
      "execution_count": 29,
      "outputs": [
        {
          "output_type": "stream",
          "name": "stdout",
          "text": [
            "[1 2 3 4 5]\n"
          ]
        }
      ]
    },
    {
      "cell_type": "code",
      "source": [
        "# 2차원 배열\n",
        "mat = np.array([[10, 20, 30], [ 60, 70, 80]]) \n",
        "print(mat)"
      ],
      "metadata": {
        "colab": {
          "base_uri": "https://localhost:8080/"
        },
        "id": "RcPBMzfrjbI0",
        "outputId": "45bac173-08e5-4bd6-a05f-0843f371c831"
      },
      "execution_count": 30,
      "outputs": [
        {
          "output_type": "stream",
          "name": "stdout",
          "text": [
            "[[10 20 30]\n",
            " [60 70 80]]\n"
          ]
        }
      ]
    },
    {
      "cell_type": "code",
      "source": [
        "print('type of vec :',type(vec))\n",
        "print('type of mat :',type(mat))"
      ],
      "metadata": {
        "colab": {
          "base_uri": "https://localhost:8080/"
        },
        "id": "-x_itZ-HjeL8",
        "outputId": "a2a6a400-77cb-4a97-aaac-6097cbfa8fef"
      },
      "execution_count": 31,
      "outputs": [
        {
          "output_type": "stream",
          "name": "stdout",
          "text": [
            "type of vec : <class 'numpy.ndarray'>\n",
            "type of mat : <class 'numpy.ndarray'>\n"
          ]
        }
      ]
    },
    {
      "cell_type": "code",
      "source": [
        "print('dimension of vec :',vec.ndim)  # 차원 출력\n",
        "print('shape of vec :',vec.shape)     # 크기 출력"
      ],
      "metadata": {
        "colab": {
          "base_uri": "https://localhost:8080/"
        },
        "id": "hT2WQ2KKjktT",
        "outputId": "dd7bbc98-b06c-488f-e8fe-b85f92c0f490"
      },
      "execution_count": 32,
      "outputs": [
        {
          "output_type": "stream",
          "name": "stdout",
          "text": [
            "dimension of vec : 1\n",
            "shape of vec : (5,)\n"
          ]
        }
      ]
    },
    {
      "cell_type": "code",
      "source": [
        "print('dimension of mat :',mat.ndim) # 차원 출력\n",
        "print('shape of mat :',mat.shape) # 크기 출력"
      ],
      "metadata": {
        "colab": {
          "base_uri": "https://localhost:8080/"
        },
        "id": "2o_S8buJjtPi",
        "outputId": "5a97e169-6b65-4320-ed5d-503027a281be"
      },
      "execution_count": 33,
      "outputs": [
        {
          "output_type": "stream",
          "name": "stdout",
          "text": [
            "dimension of mat : 2\n",
            "shape of mat : (2, 3)\n"
          ]
        }
      ]
    },
    {
      "cell_type": "code",
      "source": [
        "# 모든 값이 0인 2x3 배열 생성.\n",
        "zero_mat = np.zeros((2,3))\n",
        "print(zero_mat)"
      ],
      "metadata": {
        "colab": {
          "base_uri": "https://localhost:8080/"
        },
        "id": "g_QIQKpwj8fJ",
        "outputId": "584df47a-47e6-4606-83fd-b0f795d65a96"
      },
      "execution_count": 34,
      "outputs": [
        {
          "output_type": "stream",
          "name": "stdout",
          "text": [
            "[[0. 0. 0.]\n",
            " [0. 0. 0.]]\n"
          ]
        }
      ]
    },
    {
      "cell_type": "code",
      "source": [
        "# 모든 값이 1인 2x3 배열 생성.\n",
        "one_mat = np.ones((2,3))\n",
        "print(one_mat)"
      ],
      "metadata": {
        "colab": {
          "base_uri": "https://localhost:8080/"
        },
        "id": "Ksveiokhj_ph",
        "outputId": "c3d03df5-df73-4024-dcdf-2bc930f5e253"
      },
      "execution_count": 35,
      "outputs": [
        {
          "output_type": "stream",
          "name": "stdout",
          "text": [
            "[[1. 1. 1.]\n",
            " [1. 1. 1.]]\n"
          ]
        }
      ]
    },
    {
      "cell_type": "code",
      "source": [
        "# 모든 값이 특정 상수인 배열 생성. 이 경우 7.\n",
        "same_value_mat = np.full((2,2), 7)\n",
        "print(same_value_mat)"
      ],
      "metadata": {
        "colab": {
          "base_uri": "https://localhost:8080/"
        },
        "id": "WcIzLblOj_n8",
        "outputId": "1b32970f-7369-4546-8293-f32e60857348"
      },
      "execution_count": 36,
      "outputs": [
        {
          "output_type": "stream",
          "name": "stdout",
          "text": [
            "[[7 7]\n",
            " [7 7]]\n"
          ]
        }
      ]
    },
    {
      "cell_type": "code",
      "source": [
        "# 대각선 값이 1이고 나머지 값이 0인 2차원 배열을 생성.\n",
        "eye_mat = np.eye(3)\n",
        "print(eye_mat)"
      ],
      "metadata": {
        "colab": {
          "base_uri": "https://localhost:8080/"
        },
        "id": "0rBFFys5j_l1",
        "outputId": "013e2201-ba87-4832-a464-1b83ac5db85d"
      },
      "execution_count": 37,
      "outputs": [
        {
          "output_type": "stream",
          "name": "stdout",
          "text": [
            "[[1. 0. 0.]\n",
            " [0. 1. 0.]\n",
            " [0. 0. 1.]]\n"
          ]
        }
      ]
    },
    {
      "cell_type": "code",
      "source": [
        "random_mat = np.random.random((2,2)) # 임의의 값으로 채워진 배열 생성\n",
        "print(random_mat)"
      ],
      "metadata": {
        "colab": {
          "base_uri": "https://localhost:8080/"
        },
        "id": "wqkrMNfnj_jj",
        "outputId": "d1331783-27c3-41ab-cbe0-5664c8592d64"
      },
      "execution_count": 38,
      "outputs": [
        {
          "output_type": "stream",
          "name": "stdout",
          "text": [
            "[[0.57865511 0.52068277]\n",
            " [0.12068671 0.32132277]]\n"
          ]
        }
      ]
    },
    {
      "cell_type": "code",
      "source": [
        "# 0부터 9까지\n",
        "range_vec = np.arange(10)\n",
        "print(range_vec)"
      ],
      "metadata": {
        "colab": {
          "base_uri": "https://localhost:8080/"
        },
        "id": "3X9QUj5aj_hO",
        "outputId": "d353ea91-b817-4ce0-a8fa-6100b69412ab"
      },
      "execution_count": 39,
      "outputs": [
        {
          "output_type": "stream",
          "name": "stdout",
          "text": [
            "[0 1 2 3 4 5 6 7 8 9]\n"
          ]
        }
      ]
    },
    {
      "cell_type": "code",
      "source": [
        "# 1부터 9까지 +2씩 적용되는 범위\n",
        "n = 2\n",
        "range_n_step_vec = np.arange(1, 10, n)\n",
        "print(range_n_step_vec)"
      ],
      "metadata": {
        "colab": {
          "base_uri": "https://localhost:8080/"
        },
        "id": "LQYyL7OCj_QV",
        "outputId": "a1b31c83-3eaa-40fc-c6ee-de452e73fae2"
      },
      "execution_count": 40,
      "outputs": [
        {
          "output_type": "stream",
          "name": "stdout",
          "text": [
            "[1 3 5 7 9]\n"
          ]
        }
      ]
    },
    {
      "cell_type": "code",
      "source": [
        "# range 값 reshape\n",
        "reshape_mat = np.array(np.arange(30)).reshape((5,6))\n",
        "print(reshape_mat)"
      ],
      "metadata": {
        "colab": {
          "base_uri": "https://localhost:8080/"
        },
        "id": "jceK_xkCkHtq",
        "outputId": "129e5902-a0de-4c38-81b1-6903650d9394"
      },
      "execution_count": 41,
      "outputs": [
        {
          "output_type": "stream",
          "name": "stdout",
          "text": [
            "[[ 0  1  2  3  4  5]\n",
            " [ 6  7  8  9 10 11]\n",
            " [12 13 14 15 16 17]\n",
            " [18 19 20 21 22 23]\n",
            " [24 25 26 27 28 29]]\n"
          ]
        }
      ]
    },
    {
      "cell_type": "code",
      "source": [
        "mat = np.array([[1, 2, 3], [4, 5, 6]])\n",
        "print(mat)"
      ],
      "metadata": {
        "colab": {
          "base_uri": "https://localhost:8080/"
        },
        "id": "-A5t2-kekHn4",
        "outputId": "7bd229e8-f553-485a-aaf9-726b5e4f10d8"
      },
      "execution_count": 42,
      "outputs": [
        {
          "output_type": "stream",
          "name": "stdout",
          "text": [
            "[[1 2 3]\n",
            " [4 5 6]]\n"
          ]
        }
      ]
    },
    {
      "cell_type": "markdown",
      "source": [
        "### 3.2. Numpy 슬라이싱"
      ],
      "metadata": {
        "id": "g8KgC0P8kppA"
      }
    },
    {
      "cell_type": "code",
      "source": [
        "mat = np.array([[1, 2, 3], [4, 5, 6]])\n",
        "print(mat)"
      ],
      "metadata": {
        "colab": {
          "base_uri": "https://localhost:8080/"
        },
        "id": "0RVzmv3-kHlK",
        "outputId": "43fda4d4-3fef-48f7-c4ea-9f840babb03f"
      },
      "execution_count": 43,
      "outputs": [
        {
          "output_type": "stream",
          "name": "stdout",
          "text": [
            "[[1 2 3]\n",
            " [4 5 6]]\n"
          ]
        }
      ]
    },
    {
      "cell_type": "code",
      "source": [
        "# 첫번째 행 출력\n",
        "slicing_mat = mat[0, :]\n",
        "print(slicing_mat)"
      ],
      "metadata": {
        "colab": {
          "base_uri": "https://localhost:8080/"
        },
        "id": "luwl0tYFkHhd",
        "outputId": "844a2577-5bdc-4dd2-ce91-6180b440cb10"
      },
      "execution_count": 44,
      "outputs": [
        {
          "output_type": "stream",
          "name": "stdout",
          "text": [
            "[1 2 3]\n"
          ]
        }
      ]
    },
    {
      "cell_type": "code",
      "source": [
        "# 두번째 열 출력\n",
        "slicing_mat = mat[:, 1]\n",
        "print(slicing_mat)"
      ],
      "metadata": {
        "colab": {
          "base_uri": "https://localhost:8080/"
        },
        "id": "3npwg2HbkHfY",
        "outputId": "b1bb3095-2a62-4e5c-de48-e6a8678e2956"
      },
      "execution_count": 45,
      "outputs": [
        {
          "output_type": "stream",
          "name": "stdout",
          "text": [
            "[2 5]\n"
          ]
        }
      ]
    },
    {
      "cell_type": "markdown",
      "source": [
        "### 3.3. Numpy 정수 인덱싱"
      ],
      "metadata": {
        "id": "BhKewJN0kdUu"
      }
    },
    {
      "cell_type": "code",
      "source": [
        "mat = np.array([[1, 2], [4, 5], [7, 8]])\n",
        "print(mat)"
      ],
      "metadata": {
        "colab": {
          "base_uri": "https://localhost:8080/"
        },
        "id": "munp87vjkHc5",
        "outputId": "7dd82a4b-635b-49ef-9c15-bf606e91294a"
      },
      "execution_count": 46,
      "outputs": [
        {
          "output_type": "stream",
          "name": "stdout",
          "text": [
            "[[1 2]\n",
            " [4 5]\n",
            " [7 8]]\n"
          ]
        }
      ]
    },
    {
      "cell_type": "code",
      "source": [
        "# 1행 0열의 원소\n",
        "# => 0부터 카운트하므로 두번째 행 첫번째 열의 원소.\n",
        "print(mat[1, 0])"
      ],
      "metadata": {
        "colab": {
          "base_uri": "https://localhost:8080/"
        },
        "id": "QCx4NTLwkHa3",
        "outputId": "1b29e02b-d2de-4954-fc07-5a7d88b31b2d"
      },
      "execution_count": 47,
      "outputs": [
        {
          "output_type": "stream",
          "name": "stdout",
          "text": [
            "4\n"
          ]
        }
      ]
    },
    {
      "cell_type": "code",
      "source": [
        "# mat[[2행, 1행],[0열, 1열]]\n",
        "# 각 행과 열의 쌍을 매칭하면 2행 0열, 1행 1열의 두 개의 원소.\n",
        "indexing_mat = mat[[2, 1],[0, 1]]\n",
        "print(indexing_mat)"
      ],
      "metadata": {
        "colab": {
          "base_uri": "https://localhost:8080/"
        },
        "id": "vxAOf1cCkHYh",
        "outputId": "1286a809-ff6a-4024-db58-9f52c905f340"
      },
      "execution_count": 48,
      "outputs": [
        {
          "output_type": "stream",
          "name": "stdout",
          "text": [
            "[7 5]\n"
          ]
        }
      ]
    },
    {
      "cell_type": "markdown",
      "source": [
        "### 3.4. Numpy 연산"
      ],
      "metadata": {
        "id": "HtTZXDKGk7NP"
      }
    },
    {
      "cell_type": "code",
      "source": [
        "x = np.array([1,2,3])\n",
        "y = np.array([4,5,6])"
      ],
      "metadata": {
        "id": "QOk5oNTDkHWU"
      },
      "execution_count": 49,
      "outputs": []
    },
    {
      "cell_type": "code",
      "source": [
        "# result = np.add(x, y)와 동일.\n",
        "result = x + y\n",
        "print(result)"
      ],
      "metadata": {
        "colab": {
          "base_uri": "https://localhost:8080/"
        },
        "id": "LYQgXyizkHT_",
        "outputId": "3b0bc3e6-bed7-4689-c5f9-8f24551628ca"
      },
      "execution_count": 50,
      "outputs": [
        {
          "output_type": "stream",
          "name": "stdout",
          "text": [
            "[5 7 9]\n"
          ]
        }
      ]
    },
    {
      "cell_type": "code",
      "source": [
        "# result = np.subtract(x, y)와 동일.\n",
        "result = x - y\n",
        "print(result)"
      ],
      "metadata": {
        "colab": {
          "base_uri": "https://localhost:8080/"
        },
        "id": "Z1aITEGmlENW",
        "outputId": "6f985116-6dde-4bf0-b95b-ff2a65e6db3e"
      },
      "execution_count": 51,
      "outputs": [
        {
          "output_type": "stream",
          "name": "stdout",
          "text": [
            "[-3 -3 -3]\n"
          ]
        }
      ]
    },
    {
      "cell_type": "code",
      "source": [
        "# result = np.multiply(result, x)와 동일.\n",
        "result = result * x\n",
        "print(result)"
      ],
      "metadata": {
        "colab": {
          "base_uri": "https://localhost:8080/"
        },
        "id": "uyjZSbmalEMH",
        "outputId": "9c664d80-74b7-4c1f-e914-bf3b6959997d"
      },
      "execution_count": 52,
      "outputs": [
        {
          "output_type": "stream",
          "name": "stdout",
          "text": [
            "[-3 -6 -9]\n"
          ]
        }
      ]
    },
    {
      "cell_type": "code",
      "source": [
        "# result = np.divide(result, x)와 동일.\n",
        "result = result / x\n",
        "print(result)"
      ],
      "metadata": {
        "colab": {
          "base_uri": "https://localhost:8080/"
        },
        "id": "Wm6MFkxxlEJq",
        "outputId": "275a68e3-5914-482f-9439-f4d27580d12d"
      },
      "execution_count": 53,
      "outputs": [
        {
          "output_type": "stream",
          "name": "stdout",
          "text": [
            "[-3. -3. -3.]\n"
          ]
        }
      ]
    },
    {
      "cell_type": "code",
      "source": [
        "mat1 = np.array([[1,2],[3,4]])\n",
        "mat2 = np.array([[5,6],[7,8]])\n",
        "\n",
        "mat3 = np.dot(mat1, mat2)\n",
        "print(mat3)"
      ],
      "metadata": {
        "colab": {
          "base_uri": "https://localhost:8080/"
        },
        "id": "lig2sW9MlEHc",
        "outputId": "35722023-8442-4cf6-879c-bb351ea15523"
      },
      "execution_count": 54,
      "outputs": [
        {
          "output_type": "stream",
          "name": "stdout",
          "text": [
            "[[19 22]\n",
            " [43 50]]\n"
          ]
        }
      ]
    },
    {
      "cell_type": "markdown",
      "source": [
        "## 4. 맷플롯립"
      ],
      "metadata": {
        "id": "XnzzWnJBjOxD"
      }
    },
    {
      "cell_type": "code",
      "source": [
        "import matplotlib.pyplot as plt"
      ],
      "metadata": {
        "id": "XD2YSvhylMSX"
      },
      "execution_count": 55,
      "outputs": []
    },
    {
      "cell_type": "code",
      "source": [
        "plt.title('test')\n",
        "plt.plot([1,2,3,4],[2,4,8,6])\n",
        "plt.show()"
      ],
      "metadata": {
        "colab": {
          "base_uri": "https://localhost:8080/",
          "height": 281
        },
        "id": "EGIMZQsWlMOt",
        "outputId": "58a706e9-c3d8-458f-8f0c-10b5e18cadc1"
      },
      "execution_count": 56,
      "outputs": [
        {
          "output_type": "display_data",
          "data": {
            "image/png": "[encoded data removed]",
            "text/plain": [
              "<Figure size 432x288 with 1 Axes>"
            ]
          },
          "metadata": {
            "needs_background": "light"
          }
        }
      ]
    },
    {
      "cell_type": "code",
      "source": [
        "plt.title('test')\n",
        "plt.plot([1,2,3,4],[2,4,8,6])\n",
        "plt.xlabel('hours')\n",
        "plt.ylabel('score')\n",
        "plt.show()"
      ],
      "metadata": {
        "colab": {
          "base_uri": "https://localhost:8080/",
          "height": 295
        },
        "id": "9DltvhoalMN2",
        "outputId": "2a0d75f5-9001-4376-85c2-ca40c9f1860a"
      },
      "execution_count": 57,
      "outputs": [
        {
          "output_type": "display_data",
          "data": {
            "image/png": "[encoded data removed]",
            "text/plain": [
              "<Figure size 432x288 with 1 Axes>"
            ]
          },
          "metadata": {
            "needs_background": "light"
          }
        }
      ]
    },
    {
      "cell_type": "code",
      "source": [
        "plt.title('students')\n",
        "plt.plot([1,2,3,4],[2,4,8,6])\n",
        "plt.plot([1.5,2.5,3.5,4.5],[3,5,8,10]) # 라인 신규 추가\n",
        "plt.xlabel('hours')\n",
        "plt.ylabel('score')\n",
        "plt.legend(['A student', 'B student']) # 범례 삽입\n",
        "plt.show()"
      ],
      "metadata": {
        "colab": {
          "base_uri": "https://localhost:8080/",
          "height": 295
        },
        "id": "sMuNtOcylMJ7",
        "outputId": "8be360d6-001e-4232-81a3-d5a447a47621"
      },
      "execution_count": 58,
      "outputs": [
        {
          "output_type": "display_data",
          "data": {
            "image/png": "[encoded data removed]",
            "text/plain": [
              "<Figure size 432x288 with 1 Axes>"
            ]
          },
          "metadata": {
            "needs_background": "light"
          }
        }
      ]
    },
    {
      "cell_type": "markdown",
      "source": [
        "## 5. 텍스트 전처리"
      ],
      "metadata": {
        "id": "xjUeVzFOlRf3"
      }
    },
    {
      "cell_type": "markdown",
      "source": [
        "### 5.1. 토큰화\n",
        "\n",
        "* 토큰의 기준을 단어(word)로 하는 경우, 단어 토큰화(word tokenization)라고 함\n",
        "* 단어(word)는 단어 단위 외에도 단어구, 의미를 갖는 문자열로도 간주되기도 함"
      ],
      "metadata": {
        "id": "MgeRgRL_li1z"
      }
    },
    {
      "cell_type": "code",
      "source": [
        "!pip install konlpy kss"
      ],
      "metadata": {
        "id": "ACpvNPU6lMIF"
      },
      "execution_count": null,
      "outputs": []
    },
    {
      "cell_type": "code",
      "source": [
        "import nltk\n",
        "nltk.download('punkt')\n",
        "nltk.download('wordnet')\n",
        "nltk.download('stopwords')\n",
        "nltk.download('averaged_perceptron_tagger')"
      ],
      "metadata": {
        "id": "JmqGjvA9lMFi"
      },
      "execution_count": null,
      "outputs": []
    },
    {
      "cell_type": "markdown",
      "source": [
        "#### 5.1.1. 토큰화 중 생기는 선택의 순간\n",
        "* 토큰화의 기준을 정립\n",
        "* 데이터를 가지고 어떤 용도로 사용할 것인지에 따라 그 용도에 영향이 없는 기준으로 정함\n"
      ],
      "metadata": {
        "id": "5jxTNUCKo30z"
      }
    },
    {
      "cell_type": "code",
      "source": [
        "from nltk.tokenize import word_tokenize\n",
        "from nltk.tokenize import WordPunctTokenizer\n",
        "from tensorflow.keras.preprocessing.text import text_to_word_sequence"
      ],
      "metadata": {
        "id": "UgRvC4fvlL8D"
      },
      "execution_count": 64,
      "outputs": []
    },
    {
      "cell_type": "code",
      "source": [
        "print ('원문 :', \"Don't be fooled by the dark sounding name, Mr. Jone's Orphanage is as cheery as cheery goes for a pastry shop.\")\n",
        "# word_tokenize\n",
        "print('토큰화1 :',word_tokenize(\"Don't be fooled by the dark sounding name, Mr. Jone's Orphanage is as cheery as cheery goes for a pastry shop.\"))\n",
        "\n",
        "# wordPunctTokenizer\n",
        "print('토큰화2 :',WordPunctTokenizer().tokenize(\"Don't be fooled by the dark sounding name, Mr. Jone's Orphanage is as cheery as cheery goes for a pastry shop.\"))\n",
        "\n",
        "# text_to_word_sequence\n",
        "print('토큰화3 :',text_to_word_sequence(\"Don't be fooled by the dark sounding name, Mr. Jone's Orphanage is as cheery as cheery goes for a pastry shop.\"))"
      ],
      "metadata": {
        "colab": {
          "base_uri": "https://localhost:8080/"
        },
        "id": "NrJvbxNOo_yn",
        "outputId": "2700a32b-31d8-48ca-c9bd-b76b6e003ffd"
      },
      "execution_count": 71,
      "outputs": [
        {
          "output_type": "stream",
          "name": "stdout",
          "text": [
            "원문 : Don't be fooled by the dark sounding name, Mr. Jone's Orphanage is as cheery as cheery goes for a pastry shop.\n",
            "토큰화1 : ['Do', \"n't\", 'be', 'fooled', 'by', 'the', 'dark', 'sounding', 'name', ',', 'Mr.', 'Jone', \"'s\", 'Orphanage', 'is', 'as', 'cheery', 'as', 'cheery', 'goes', 'for', 'a', 'pastry', 'shop', '.']\n",
            "토큰화2 : ['Don', \"'\", 't', 'be', 'fooled', 'by', 'the', 'dark', 'sounding', 'name', ',', 'Mr', '.', 'Jone', \"'\", 's', 'Orphanage', 'is', 'as', 'cheery', 'as', 'cheery', 'goes', 'for', 'a', 'pastry', 'shop', '.']\n",
            "토큰화3 : [\"don't\", 'be', 'fooled', 'by', 'the', 'dark', 'sounding', 'name', 'mr', \"jone's\", 'orphanage', 'is', 'as', 'cheery', 'as', 'cheery', 'goes', 'for', 'a', 'pastry', 'shop']\n"
          ]
        }
      ]
    },
    {
      "cell_type": "markdown",
      "source": [
        "#### 5.1.2. 토큰화에서 고려해야할 사항\n",
        "1. 구두점이나 특수 문자를 단순 제외해서는 안 된다.\n",
        "2. 줄임말과 단어 내에 띄어쓰기가 있는 경우.\n",
        "3. 표준 토큰화 예제 (Penn Treebank Tokenization)\n",
        "  1. 하이픈으로 구성된 단어는 하나로 유지\n",
        "  2.  doesn't와 같이 아포스트로피로 '접어'가 함께하는 단어는 분리"
      ],
      "metadata": {
        "id": "Myd64yfwpZtY"
      }
    },
    {
      "cell_type": "code",
      "source": [
        "from nltk.tokenize import TreebankWordTokenizer\n",
        "\n",
        "tokenizer = TreebankWordTokenizer()\n",
        "\n",
        "text = \"Starting a home-based restaurant may be an ideal. it doesn't have a food chain or restaurant of their own.\"\n",
        "print('트리뱅크 워드토크나이저 :',tokenizer.tokenize(text))"
      ],
      "metadata": {
        "colab": {
          "base_uri": "https://localhost:8080/"
        },
        "id": "1Q8Jmf_FqeW7",
        "outputId": "7727d767-4a78-4594-91eb-7c7e14357eea"
      },
      "execution_count": 72,
      "outputs": [
        {
          "output_type": "stream",
          "name": "stdout",
          "text": [
            "트리뱅크 워드토크나이저 : ['Starting', 'a', 'home-based', 'restaurant', 'may', 'be', 'an', 'ideal.', 'it', 'does', \"n't\", 'have', 'a', 'food', 'chain', 'or', 'restaurant', 'of', 'their', 'own', '.']\n"
          ]
        }
      ]
    },
    {
      "cell_type": "markdown",
      "source": [
        "#### 5.1.3. 문장 토큰화\n",
        "\n",
        "* 코퍼스가 정제되지 않은 상태라면, 사용하고자 하는 용도에 맞게 문장 토큰화가 필요할 수 있음"
      ],
      "metadata": {
        "id": "7Ocn4GRsqiHK"
      }
    },
    {
      "cell_type": "code",
      "source": [
        "from nltk.tokenize import sent_tokenize\n",
        "\n",
        "text = \"His barber kept his word. But keeping such a huge secret to himself was driving him crazy. Finally, the barber went up a mountain and almost to the edge of a cliff. He dug a hole in the midst of some reeds. He looked about, to make sure no one was near.\"\n",
        "print('문장 토큰화1 :',sent_tokenize(text))"
      ],
      "metadata": {
        "colab": {
          "base_uri": "https://localhost:8080/"
        },
        "id": "qZRBhtajqjER",
        "outputId": "63eba3b6-86c3-4251-c076-cc3cf9c9023b"
      },
      "execution_count": 73,
      "outputs": [
        {
          "output_type": "stream",
          "name": "stdout",
          "text": [
            "문장 토큰화1 : ['His barber kept his word.', 'But keeping such a huge secret to himself was driving him crazy.', 'Finally, the barber went up a mountain and almost to the edge of a cliff.', 'He dug a hole in the midst of some reeds.', 'He looked about, to make sure no one was near.']\n"
          ]
        }
      ]
    },
    {
      "cell_type": "code",
      "source": [
        "text = \"I am actively looking for Ph.D. students. and you are a Ph.D student.\"\n",
        "print('문장 토큰화2 :',sent_tokenize(text))"
      ],
      "metadata": {
        "colab": {
          "base_uri": "https://localhost:8080/"
        },
        "id": "tneJ3zRMqjB3",
        "outputId": "9bb3871f-db2b-4caa-c7b9-0c8ad6e094f0"
      },
      "execution_count": 74,
      "outputs": [
        {
          "output_type": "stream",
          "name": "stdout",
          "text": [
            "문장 토큰화2 : ['I am actively looking for Ph.D. students.', 'and you are a Ph.D student.']\n"
          ]
        }
      ]
    },
    {
      "cell_type": "code",
      "source": [
        "import kss\n",
        "\n",
        "text = '딥 러닝 자연어 처리가 재미있기는 합니다. 그런데 문제는 영어보다 한국어로 할 때 너무 어렵습니다. 이제 해보면 알걸요?'\n",
        "print('한국어 문장 토큰화 :',kss.split_sentences(text))"
      ],
      "metadata": {
        "colab": {
          "base_uri": "https://localhost:8080/"
        },
        "id": "u0rW2f6Iqi_h",
        "outputId": "77450fc4-3e13-4d79-eecd-c5d70d28484c"
      },
      "execution_count": 75,
      "outputs": [
        {
          "output_type": "stream",
          "name": "stderr",
          "text": [
            "[Korean Sentence Splitter]: Initializing Pynori...\n"
          ]
        },
        {
          "output_type": "stream",
          "name": "stdout",
          "text": [
            "한국어 문장 토큰화 : ['딥 러닝 자연어 처리가 재미있기는 합니다.', '그런데 문제는 영어보다 한국어로 할 때 너무 어렵습니다.', '이제 해보면 알걸요?']\n"
          ]
        }
      ]
    },
    {
      "cell_type": "markdown",
      "source": [
        "#### 5.1.4. NLTK와 KoNLPy를 이용한 영어, 한국어 토큰화 실습\n",
        "* 한국어에서의 토큰화의 어려움\n",
        "  * 교착어 특성: 자립 형태소/의존 형태소\n",
        "  * 한국어는 띄어쓰기가 영어보다 잘 지켜지지 않음\n",
        "* 품사 태깅\n",
        "  * 단어는 표기는 같지만 품사에 따라서 단어의 의미가 달라짐\n",
        "  * 토큰화 과정에서 각 단어가 어떤 품사로 쓰였는지를 구분\n"
      ],
      "metadata": {
        "id": "o33ba3shq1Z8"
      }
    },
    {
      "cell_type": "code",
      "source": [
        "from nltk.tokenize import word_tokenize\n",
        "from nltk.tag import pos_tag"
      ],
      "metadata": {
        "id": "DzL4TCgFqi9a"
      },
      "execution_count": 76,
      "outputs": []
    },
    {
      "cell_type": "code",
      "source": [
        "text = \"I am actively looking for Ph.D. students. and you are a Ph.D. student.\"\n",
        "tokenized_sentence = word_tokenize(text)\n",
        "\n",
        "print('단어 토큰화 :',tokenized_sentence)\n",
        "print('품사 태깅 :',pos_tag(tokenized_sentence))"
      ],
      "metadata": {
        "colab": {
          "base_uri": "https://localhost:8080/"
        },
        "id": "4RTO0tPxqi7O",
        "outputId": "7a35bba2-f777-4a7a-8a69-b8e24dd98dbe"
      },
      "execution_count": 77,
      "outputs": [
        {
          "output_type": "stream",
          "name": "stdout",
          "text": [
            "단어 토큰화 : ['I', 'am', 'actively', 'looking', 'for', 'Ph.D.', 'students', '.', 'and', 'you', 'are', 'a', 'Ph.D.', 'student', '.']\n",
            "품사 태깅 : [('I', 'PRP'), ('am', 'VBP'), ('actively', 'RB'), ('looking', 'VBG'), ('for', 'IN'), ('Ph.D.', 'NNP'), ('students', 'NNS'), ('.', '.'), ('and', 'CC'), ('you', 'PRP'), ('are', 'VBP'), ('a', 'DT'), ('Ph.D.', 'NNP'), ('student', 'NN'), ('.', '.')]\n"
          ]
        }
      ]
    },
    {
      "cell_type": "code",
      "source": [
        "from konlpy.tag import Okt\n",
        "from konlpy.tag import Kkma"
      ],
      "metadata": {
        "id": "Ng8V7CQkqi49"
      },
      "execution_count": 78,
      "outputs": []
    },
    {
      "cell_type": "code",
      "source": [
        "okt = Okt()\n",
        "kkma = Kkma()"
      ],
      "metadata": {
        "id": "zyztCOjVqi2a"
      },
      "execution_count": 79,
      "outputs": []
    },
    {
      "cell_type": "code",
      "source": [
        "print('OKT 형태소 분석 :',okt.morphs(\"열심히 코딩한 당신, 연휴에는 여행을 가봐요\"))\n",
        "print('OKT 품사 태깅 :',okt.pos(\"열심히 코딩한 당신, 연휴에는 여행을 가봐요\"))\n",
        "print('OKT 명사 추출 :',okt.nouns(\"열심히 코딩한 당신, 연휴에는 여행을 가봐요\"))"
      ],
      "metadata": {
        "colab": {
          "base_uri": "https://localhost:8080/"
        },
        "id": "F7HBG4HbqicL",
        "outputId": "47c3c57c-008f-42d4-c6ea-bbfc11953e1e"
      },
      "execution_count": 80,
      "outputs": [
        {
          "output_type": "stream",
          "name": "stdout",
          "text": [
            "OKT 형태소 분석 : ['열심히', '코딩', '한', '당신', ',', '연휴', '에는', '여행', '을', '가봐요']\n",
            "OKT 품사 태깅 : [('열심히', 'Adverb'), ('코딩', 'Noun'), ('한', 'Josa'), ('당신', 'Noun'), (',', 'Punctuation'), ('연휴', 'Noun'), ('에는', 'Josa'), ('여행', 'Noun'), ('을', 'Josa'), ('가봐요', 'Verb')]\n",
            "OKT 명사 추출 : ['코딩', '당신', '연휴', '여행']\n"
          ]
        }
      ]
    },
    {
      "cell_type": "code",
      "source": [
        "print('꼬꼬마 형태소 분석 :',kkma.morphs(\"열심히 코딩한 당신, 연휴에는 여행을 가봐요\"))\n",
        "print('꼬꼬마 품사 태깅 :',kkma.pos(\"열심히 코딩한 당신, 연휴에는 여행을 가봐요\"))\n",
        "print('꼬꼬마 명사 추출 :',kkma.nouns(\"열심히 코딩한 당신, 연휴에는 여행을 가봐요\"))"
      ],
      "metadata": {
        "colab": {
          "base_uri": "https://localhost:8080/"
        },
        "id": "oZqtJ9pRqhmn",
        "outputId": "6c41f073-24e0-4eb0-bf8a-9995f936c0a3"
      },
      "execution_count": 81,
      "outputs": [
        {
          "output_type": "stream",
          "name": "stdout",
          "text": [
            "꼬꼬마 형태소 분석 : ['열심히', '코딩', '하', 'ㄴ', '당신', ',', '연휴', '에', '는', '여행', '을', '가보', '아요']\n",
            "꼬꼬마 품사 태깅 : [('열심히', 'MAG'), ('코딩', 'NNG'), ('하', 'XSV'), ('ㄴ', 'ETD'), ('당신', 'NP'), (',', 'SP'), ('연휴', 'NNG'), ('에', 'JKM'), ('는', 'JX'), ('여행', 'NNG'), ('을', 'JKO'), ('가보', 'VV'), ('아요', 'EFN')]\n",
            "꼬꼬마 명사 추출 : ['코딩', '당신', '연휴', '여행']\n"
          ]
        }
      ]
    },
    {
      "cell_type": "markdown",
      "source": [
        "### 5.2. 정제와 정규화\n",
        "\n",
        "* 토큰화 작업 전후 텍스트 데이터를 용도에 맞게 정에와 정규화를 진행\n",
        "* 정제: 코퍼스로부터 노이즈 데이터를 제거\n",
        "* 정규화: 의미는 같지만 표현 방법이 다른 단어들을 통합\n",
        "* 방법\n",
        "  1. 규칙에 기반한 표기가 다른 단어들의 통합\n",
        "  2. 대, 소문자 통합\n",
        "  3. 불필요한 단어의 제거\n",
        "    * 등장 빈도가 적은 단어\n",
        "    * 길이가 짧은 단어\n",
        "  4. 정규 표현식"
      ],
      "metadata": {
        "id": "VnlMwt_csMtj"
      }
    },
    {
      "cell_type": "markdown",
      "source": [
        "#### 5.2.1. 어간 추출과 표제어 추출"
      ],
      "metadata": {
        "id": "nlwbpwnLuEqa"
      }
    },
    {
      "cell_type": "markdown",
      "source": [
        "**(1) 표제어 추출**\n",
        "* 표제어(Lemma): '표제어' 또는 '기본 사전형 단어'\n",
        "* 단어들이 다른 형태를 가지더라도, 그 뿌리 단어를 찾아가서 단어의 개수를 줄일 수 있는지 판단\n",
        "* 형태학적 파싱 : 형태소로부터 구성 요소를 분리하는 작업\n",
        "  * 어간(stem): 단어의 의미를 담고 있는 단어의 핵심\n",
        "  * 접사(affix): 단어에 추가적인 의미를 주는 부분\n"
      ],
      "metadata": {
        "id": "z4ckp0hdu3Ks"
      }
    },
    {
      "cell_type": "code",
      "source": [
        "from nltk.stem import WordNetLemmatizer\n",
        "\n",
        "lemmatizer = WordNetLemmatizer()\n",
        "\n",
        "words = ['policy', 'doing', 'organization', 'have', 'going', 'love', 'lives', 'fly', 'dies', 'watched', 'has', 'starting']\n",
        "\n",
        "print('표제어 추출 전 :',words)\n",
        "print('표제어 추출 후 :',[lemmatizer.lemmatize(word) for word in words])"
      ],
      "metadata": {
        "colab": {
          "base_uri": "https://localhost:8080/"
        },
        "id": "1wdHfjPCumsm",
        "outputId": "0cb2c17a-9884-49b9-e0ad-9dcf2549b7b2"
      },
      "execution_count": 84,
      "outputs": [
        {
          "output_type": "stream",
          "name": "stdout",
          "text": [
            "표제어 추출 전 : ['policy', 'doing', 'organization', 'have', 'going', 'love', 'lives', 'fly', 'dies', 'watched', 'has', 'starting']\n",
            "표제어 추출 후 : ['policy', 'doing', 'organization', 'have', 'going', 'love', 'life', 'fly', 'dy', 'watched', 'ha', 'starting']\n"
          ]
        }
      ]
    },
    {
      "cell_type": "code",
      "source": [
        "# 문장에서 동사로 쓰였다는 것을 태깅하면 표제어 추출기는 품사의 정보를 보존하면서 정확한 Lemma를 출력\n",
        "print(lemmatizer.lemmatize('dies', 'v'))\n",
        "print(lemmatizer.lemmatize('watched', 'v'))\n",
        "print(lemmatizer.lemmatize('has', 'v'))"
      ],
      "metadata": {
        "colab": {
          "base_uri": "https://localhost:8080/"
        },
        "id": "06soImcDu7v0",
        "outputId": "acf6c8d7-9ccb-4ffe-d3dd-6ea950c33ea0"
      },
      "execution_count": 86,
      "outputs": [
        {
          "output_type": "stream",
          "name": "stdout",
          "text": [
            "die\n",
            "watch\n",
            "have\n"
          ]
        }
      ]
    },
    {
      "cell_type": "markdown",
      "source": [
        "**(2) 어간 추출**\n",
        "\n",
        "* 어간(Stem)을 추출하는 작업\n",
        "* 어간 추출은 형태학적 분석을 단순화한 버전\n",
        "* 정해진 규칙만 보고 단어의 어미를 자르는 어림짐작의 작업\n",
        "* 어간 추출 속도는 표제어 추출보다 일반적으로 빠름"
      ],
      "metadata": {
        "id": "P_I1DYRNv3L9"
      }
    },
    {
      "cell_type": "code",
      "source": [
        "from nltk.stem import PorterStemmer\n",
        "from nltk.tokenize import word_tokenize\n",
        "\n",
        "stemmer = PorterStemmer()\n",
        "\n",
        "sentence = \"This was not the map we found in Billy Bones's chest, but an accurate copy, complete in all things--names and heights and soundings--with the single exception of the red crosses and the written notes.\"\n",
        "tokenized_sentence = word_tokenize(sentence)\n",
        "\n",
        "print('어간 추출 전 :', tokenized_sentence)\n",
        "print('어간 추출 후 :',[stemmer.stem(word) for word in tokenized_sentence])"
      ],
      "metadata": {
        "colab": {
          "base_uri": "https://localhost:8080/"
        },
        "id": "EqmIIfi0wFyC",
        "outputId": "eef4f8a2-a215-495f-948f-ee96c9bc9d1b"
      },
      "execution_count": 87,
      "outputs": [
        {
          "output_type": "stream",
          "name": "stdout",
          "text": [
            "어간 추출 전 : ['This', 'was', 'not', 'the', 'map', 'we', 'found', 'in', 'Billy', 'Bones', \"'s\", 'chest', ',', 'but', 'an', 'accurate', 'copy', ',', 'complete', 'in', 'all', 'things', '--', 'names', 'and', 'heights', 'and', 'soundings', '--', 'with', 'the', 'single', 'exception', 'of', 'the', 'red', 'crosses', 'and', 'the', 'written', 'notes', '.']\n",
            "어간 추출 후 : ['thi', 'wa', 'not', 'the', 'map', 'we', 'found', 'in', 'billi', 'bone', \"'s\", 'chest', ',', 'but', 'an', 'accur', 'copi', ',', 'complet', 'in', 'all', 'thing', '--', 'name', 'and', 'height', 'and', 'sound', '--', 'with', 'the', 'singl', 'except', 'of', 'the', 'red', 'cross', 'and', 'the', 'written', 'note', '.']\n"
          ]
        }
      ]
    },
    {
      "cell_type": "code",
      "source": [
        "words = ['formalize', 'allowance', 'electricical']\n",
        "\n",
        "print('어간 추출 전 :',words)\n",
        "print('어간 추출 후 :',[stemmer.stem(word) for word in words])"
      ],
      "metadata": {
        "colab": {
          "base_uri": "https://localhost:8080/"
        },
        "id": "ghUM-eGgwH_c",
        "outputId": "c66358bc-85b3-4c8a-f4d8-007aea01069c"
      },
      "execution_count": 88,
      "outputs": [
        {
          "output_type": "stream",
          "name": "stdout",
          "text": [
            "어간 추출 전 : ['formalize', 'allowance', 'electricical']\n",
            "어간 추출 후 : ['formal', 'allow', 'electric']\n"
          ]
        }
      ]
    },
    {
      "cell_type": "code",
      "source": [
        "from nltk.stem import PorterStemmer\n",
        "from nltk.stem import LancasterStemmer\n",
        "\n",
        "# 포터 어간 추출기는 NLP 어간 추출을 하고자 한다면 가장 준수한 선택 (정교함)\n",
        "porter_stemmer = PorterStemmer()\n",
        "lancaster_stemmer = LancasterStemmer()\n",
        "\n",
        "words = ['policy', 'doing', 'organization', 'have', 'going', 'love', 'lives', 'fly', 'dies', 'watched', 'has', 'starting']\n",
        "print('어간 추출 전 :', words)\n",
        "print('포터 스테머의 어간 추출 후:',[porter_stemmer.stem(w) for w in words])\n",
        "print('랭커스터 스테머의 어간 추출 후:',[lancaster_stemmer.stem(w) for w in words])"
      ],
      "metadata": {
        "colab": {
          "base_uri": "https://localhost:8080/"
        },
        "id": "K6wXuEV4wMPV",
        "outputId": "8f8f3dc0-7897-4253-bf94-6b3453031d60"
      },
      "execution_count": 89,
      "outputs": [
        {
          "output_type": "stream",
          "name": "stdout",
          "text": [
            "어간 추출 전 : ['policy', 'doing', 'organization', 'have', 'going', 'love', 'lives', 'fly', 'dies', 'watched', 'has', 'starting']\n",
            "포터 스테머의 어간 추출 후: ['polici', 'do', 'organ', 'have', 'go', 'love', 'live', 'fli', 'die', 'watch', 'ha', 'start']\n",
            "랭커스터 스테머의 어간 추출 후: ['policy', 'doing', 'org', 'hav', 'going', 'lov', 'liv', 'fly', 'die', 'watch', 'has', 'start']\n"
          ]
        }
      ]
    },
    {
      "cell_type": "markdown",
      "source": [
        "#### 5.2.2. 불용어 처리\n",
        "\n",
        "* 유의미한 단어 토큰만을 선별하기 위해 큰 의미가 없는 단어 토큰을 제거\n",
        "* 불용어: 자주 등장하지만 분석을 하는 것에 있어서는 큰 도움이 되지 않는 단어들\n",
        "* I, my, me, over, 조사, 접미사 같은 단어들은 문장에서는 자주 등장하지만 실제 의미 분석을 하는데는 거의 기여하는 바가 없음"
      ],
      "metadata": {
        "id": "NakvjVShuH8m"
      }
    },
    {
      "cell_type": "code",
      "source": [
        "from nltk.corpus import stopwords\n",
        "\n",
        "stop_words_list = stopwords.words('english')\n",
        "print('불용어 개수 :', len(stop_words_list))\n",
        "print('불용어 10개 출력 :',stop_words_list[:10])"
      ],
      "metadata": {
        "colab": {
          "base_uri": "https://localhost:8080/"
        },
        "id": "co2hmfjgxgbQ",
        "outputId": "0edf2fcf-f3c5-41e9-ac85-c30767c82a1a"
      },
      "execution_count": 93,
      "outputs": [
        {
          "output_type": "stream",
          "name": "stdout",
          "text": [
            "불용어 개수 : 179\n",
            "불용어 10개 출력 : ['i', 'me', 'my', 'myself', 'we', 'our', 'ours', 'ourselves', 'you', \"you're\"]\n"
          ]
        }
      ]
    },
    {
      "cell_type": "code",
      "source": [
        "example = \"Family is not an important thing. It's everything.\"\n",
        "stop_words = set(stopwords.words('english')) \n",
        "\n",
        "word_tokens = word_tokenize(example)\n",
        "\n",
        "result = []\n",
        "for word in word_tokens: \n",
        "    if word not in stop_words: \n",
        "        result.append(word) \n",
        "\n",
        "print('불용어 제거 전 :',word_tokens) \n",
        "print('불용어 제거 후 :',result)"
      ],
      "metadata": {
        "colab": {
          "base_uri": "https://localhost:8080/"
        },
        "id": "LIWouq-txu30",
        "outputId": "1e5fcedb-5336-41af-d53a-f93c41b796cd"
      },
      "execution_count": 94,
      "outputs": [
        {
          "output_type": "stream",
          "name": "stdout",
          "text": [
            "불용어 제거 전 : ['Family', 'is', 'not', 'an', 'important', 'thing', '.', 'It', \"'s\", 'everything', '.']\n",
            "불용어 제거 후 : ['Family', 'important', 'thing', '.', 'It', \"'s\", 'everything', '.']\n"
          ]
        }
      ]
    },
    {
      "cell_type": "code",
      "source": [
        "okt = Okt()\n",
        "\n",
        "example = \"고기를 아무렇게나 구우려고 하면 안 돼. 고기라고 다 같은 게 아니거든. 예컨대 삼겹살을 구울 때는 중요한 게 있지.\"\n",
        "stop_words = \"를 아무렇게나 구 우려 고 안 돼 같은 게 구울 때 는\"\n",
        "\n",
        "stop_words = set(stop_words.split(' '))\n",
        "word_tokens = okt.morphs(example)\n",
        "\n",
        "result = [word for word in word_tokens if not word in stop_words]\n",
        "\n",
        "print('불용어 제거 전 :',word_tokens) \n",
        "print('불용어 제거 후 :',result)"
      ],
      "metadata": {
        "colab": {
          "base_uri": "https://localhost:8080/"
        },
        "id": "hiSV6q9Fx0It",
        "outputId": "1d2c7e92-a083-47c8-f76b-c4325d1d922e"
      },
      "execution_count": 95,
      "outputs": [
        {
          "output_type": "stream",
          "name": "stdout",
          "text": [
            "불용어 제거 전 : ['고기', '를', '아무렇게나', '구', '우려', '고', '하면', '안', '돼', '.', '고기', '라고', '다', '같은', '게', '아니거든', '.', '예컨대', '삼겹살', '을', '구울', '때', '는', '중요한', '게', '있지', '.']\n",
            "불용어 제거 후 : ['고기', '하면', '.', '고기', '라고', '다', '아니거든', '.', '예컨대', '삼겹살', '을', '중요한', '있지', '.']\n"
          ]
        }
      ]
    },
    {
      "cell_type": "markdown",
      "source": [
        "#### 5.2.3. 정규 표현식\n",
        "\n",
        "* 텍스트 전처리에서 정규 표현식은 아주 유용한 도구\n",
        "\n",
        "\n",
        "| 특수 문자      | 설명                                                         |\n",
        "| :------------- | :----------------------------------------------------------- |\n",
        "| .              | 한 개의 임의의 문자를 나타냅니다. (줄바꿈 문자인 \\n는 제외)  |\n",
        "| ?              | 앞의 문자가 존재할 수도 있고, 존재하지 않을 수도 있습니다. (문자가 0개 또는 1개) |\n",
        "| *              | 앞의 문자가 무한개로 존재할 수도 있고, 존재하지 않을 수도 있습니다. (문자가 0개 이상) |\n",
        "| +              | 앞의 문자가 최소 한 개 이상 존재합니다. (문자가 1개 이상)    |\n",
        "| ^              | 뒤의 문자열로 문자열이 시작됩니다.                           |\n",
        "| $              | 앞의 문자열로 문자열이 끝납니다.                             |\n",
        "| {숫자}         | 숫자만큼 반복합니다.                                         |\n",
        "| {숫자1, 숫자2} | 숫자1 이상 숫자2 이하만큼 반복합니다. ?, *, +를 이것으로 대체할 수 있습니다. |\n",
        "| {숫자,}        | 숫자 이상만큼 반복합니다.                                    |\n",
        "| [ ]            | 대괄호 안의 문자들 중 한 개의 문자와 매치합니다. [amk]라고 한다면 a 또는 m 또는 k 중 하나라도 존재하면 매치를 의미합니다. [a-z]와 같이 범위를 지정할 수도 있습니다. [a-zA-Z]는 알파벳 전체를 의미하는 범위이며, 문자열에 알파벳이 존재하면 매치를 의미합니다. |\n",
        "| [^문자]        | 해당 문자를 제외한 문자를 매치합니다.                        |\n",
        "| l              | AlB와 같이 쓰이며 A 또는 B의 의미를 가집니다.                | \n",
        "\n",
        "| 문자 규칙 | 설명                                                         |\n",
        "| :-------- | :----------------------------------------------------------- |\n",
        "| \\         | 역 슬래쉬 문자 자체를 의미합니다                             |\n",
        "| \\d        | 모든 숫자를 의미합니다. [0-9]와 의미가 동일합니다.           |\n",
        "| \\D        | 숫자를 제외한 모든 문자를 의미합니다. [^0-9]와 의미가 동일합니다. |\n",
        "| \\s        | 공백을 의미합니다. [ \\t\\n\\r\\f\\v]와 의미가 동일합니다.        |\n",
        "| \\S        | 공백을 제외한 문자를 의미합니다. [^ \\t\\n\\r\\f\\v]와 의미가 동일합니다. |\n",
        "| \\w        | 문자 또는 숫자를 의미합니다. [a-zA-Z0-9]와 의미가 동일합니다. |\n",
        "| \\W        | 문자 또는 숫자가 아닌 문자를 의미합니다. [^a-zA-Z0-9]와 의미가 동일합니다. |\n",
        "\n",
        "| 모듈 함수     | 설명                                                         |\n",
        "| :------------ | :----------------------------------------------------------- |\n",
        "| re.compile()  | 정규표현식을 컴파일하는 함수입니다. 찾는 패턴이 빈번한 경우에는 미리 컴파일해놓고 사용하면 속도와 편의성면에서 유리합니다. |\n",
        "| re.search()   | 문자열 전체에 대해서 정규표현식과 매치되는지를 검색합니다.   |\n",
        "| re.match()    | 문자열의 처음이 정규표현식과 매치되는지를 검색합니다.        |\n",
        "| re.split()    | 정규 표현식을 기준으로 문자열을 분리하여 리스트로 리턴합니다. |\n",
        "| re.findall()  | 문자열에서 정규 표현식과 매치되는 모든 경우의 문자열을 찾아서 리스트로 리턴합니다. 매치되는 문자열이 없다면 빈 리스트가 리턴됩니다. |\n",
        "| re.finditer() | 문자열에서 정규 표현식과 매치되는 모든 경우의 문자열에 대한 이터레이터 객체를 리턴합니다. |\n",
        "| re.sub()      | 문자열에서 정규 표현식과 일치하는 부분에 대해서 다른 문자열로 대체합니다. |"
      ],
      "metadata": {
        "id": "3h4bXkhVuMqx"
      }
    },
    {
      "cell_type": "code",
      "source": [
        "import re"
      ],
      "metadata": {
        "id": "-EamHPevy84w"
      },
      "execution_count": 96,
      "outputs": []
    },
    {
      "cell_type": "markdown",
      "source": [
        "**(1) 특수 문자**"
      ],
      "metadata": {
        "id": "RVcL-EAezkdY"
      }
    },
    {
      "cell_type": "code",
      "source": [
        "# .기호\n",
        "r = re.compile(\"a.c\")\n",
        "(r.search(\"kkk\"), # 아무런 결과도 출력되지 않는다.\n",
        " r.search(\"abc\"))"
      ],
      "metadata": {
        "colab": {
          "base_uri": "https://localhost:8080/"
        },
        "id": "sZmLmh3SzjOd",
        "outputId": "b75de01a-13d7-49fb-dc43-75c11c309e64"
      },
      "execution_count": 121,
      "outputs": [
        {
          "output_type": "execute_result",
          "data": {
            "text/plain": [
              "(None, <re.Match object; span=(0, 3), match='abc'>)"
            ]
          },
          "metadata": {},
          "execution_count": 121
        }
      ]
    },
    {
      "cell_type": "code",
      "source": [
        "# ?기호\n",
        "r = re.compile(\"ab?c\")\n",
        "(r.search(\"abbc\"), # 아무런 결과도 출력되지 않는다.\n",
        " r.search(\"abc\"), \n",
        " r.search(\"ac\"))"
      ],
      "metadata": {
        "colab": {
          "base_uri": "https://localhost:8080/"
        },
        "id": "CL22GQZ3z331",
        "outputId": "7ea5b4ec-eda3-48e9-8833-96af73bbec78"
      },
      "execution_count": 122,
      "outputs": [
        {
          "output_type": "execute_result",
          "data": {
            "text/plain": [
              "(None,\n",
              " <re.Match object; span=(0, 3), match='abc'>,\n",
              " <re.Match object; span=(0, 2), match='ac'>)"
            ]
          },
          "metadata": {},
          "execution_count": 122
        }
      ]
    },
    {
      "cell_type": "code",
      "source": [
        "# *기호\n",
        "r = re.compile(\"ab*c\")\n",
        "(r.search(\"a\"), # 아무런 결과도 출력되지 않는다.\n",
        " r.search(\"ac\"), \n",
        " r.search(\"abc\"), \n",
        " r.search(\"abbbbc\"))"
      ],
      "metadata": {
        "colab": {
          "base_uri": "https://localhost:8080/"
        },
        "id": "mJnZeO8pzD34",
        "outputId": "7e57f2a4-b805-4960-8e26-41019a8ee28c"
      },
      "execution_count": 124,
      "outputs": [
        {
          "output_type": "execute_result",
          "data": {
            "text/plain": [
              "(None,\n",
              " <re.Match object; span=(0, 2), match='ac'>,\n",
              " <re.Match object; span=(0, 3), match='abc'>,\n",
              " <re.Match object; span=(0, 6), match='abbbbc'>)"
            ]
          },
          "metadata": {},
          "execution_count": 124
        }
      ]
    },
    {
      "cell_type": "code",
      "source": [
        "# +기호\n",
        "r = re.compile(\"ab+c\")\n",
        "(r.search(\"ac\"), # 아무런 결과도 출력되지 않는다.\n",
        " r.search(\"abc\"), \n",
        " r.search(\"abbbbc\"))"
      ],
      "metadata": {
        "colab": {
          "base_uri": "https://localhost:8080/"
        },
        "id": "6Yq0f3TdzD15",
        "outputId": "02cebfb6-e969-4239-8e28-c7607a23b5fb"
      },
      "execution_count": 125,
      "outputs": [
        {
          "output_type": "execute_result",
          "data": {
            "text/plain": [
              "(None,\n",
              " <re.Match object; span=(0, 3), match='abc'>,\n",
              " <re.Match object; span=(0, 6), match='abbbbc'>)"
            ]
          },
          "metadata": {},
          "execution_count": 125
        }
      ]
    },
    {
      "cell_type": "code",
      "source": [
        "# ^기호\n",
        "r = re.compile(\"^ab\")\n",
        "(r.search(\"bbc\"), # 아무런 결과도 출력되지 않는다\n",
        " r.search(\"zab\"), # 아무런 결과도 출력되지 않는다\n",
        " r.search(\"abz\"))"
      ],
      "metadata": {
        "colab": {
          "base_uri": "https://localhost:8080/"
        },
        "id": "lRQXywTGzDzv",
        "outputId": "9a4bdb10-b2a9-4877-fa8d-e90a16f4b6af"
      },
      "execution_count": 126,
      "outputs": [
        {
          "output_type": "execute_result",
          "data": {
            "text/plain": [
              "(None, None, <re.Match object; span=(0, 2), match='ab'>)"
            ]
          },
          "metadata": {},
          "execution_count": 126
        }
      ]
    },
    {
      "cell_type": "code",
      "source": [
        "# {숫자} 기호\n",
        "r = re.compile(\"ab{2}c\")\n",
        "(r.search(\"ac\"), # 아무런 결과도 출력되지 않는다.\n",
        " r.search(\"abc\"), # 아무런 결과도 출력되지 않는다.\n",
        " r.search(\"abbbbbc\"), # 아무런 결과도 출력되지 않는다.\n",
        " r.search(\"abbc\"))"
      ],
      "metadata": {
        "colab": {
          "base_uri": "https://localhost:8080/"
        },
        "id": "NqfOvJ5nzDxZ",
        "outputId": "21f7c934-ea6d-4d46-ee0f-cadc5cedb028"
      },
      "execution_count": 127,
      "outputs": [
        {
          "output_type": "execute_result",
          "data": {
            "text/plain": [
              "(None, None, None, <re.Match object; span=(0, 4), match='abbc'>)"
            ]
          },
          "metadata": {},
          "execution_count": 127
        }
      ]
    },
    {
      "cell_type": "code",
      "source": [
        "# {숫자1, 숫자2} 기호\n",
        "r = re.compile(\"ab{2,8}c\")\n",
        "(r.search(\"ac\"), # 아무런 결과도 출력되지 않는다.\n",
        " r.search(\"abc\"), # 아무런 결과도 출력되지 않는다.\n",
        " r.search(\"abbc\"),\n",
        " r.search(\"abbbbbbbbc\"),\n",
        " r.search(\"abbbbbbbbbc\")) # 아무런 결과도 출력되지 않는다."
      ],
      "metadata": {
        "colab": {
          "base_uri": "https://localhost:8080/"
        },
        "id": "awR0BnEEzDkP",
        "outputId": "1565e6db-145e-45be-e462-ca5fd64a9660"
      },
      "execution_count": 129,
      "outputs": [
        {
          "output_type": "execute_result",
          "data": {
            "text/plain": [
              "(None,\n",
              " None,\n",
              " <re.Match object; span=(0, 4), match='abbc'>,\n",
              " <re.Match object; span=(0, 10), match='abbbbbbbbc'>,\n",
              " None)"
            ]
          },
          "metadata": {},
          "execution_count": 129
        }
      ]
    },
    {
      "cell_type": "code",
      "source": [
        "# {숫자,} 기호\n",
        "r = re.compile(\"a{2,}bc\")\n",
        "(r.search(\"bc\"), # 아무런 결과도 출력되지 않는다.\n",
        " r.search(\"aa\"), # 아무런 결과도 출력되지 않는다.\n",
        " r.search(\"aaaaaaaabc\"),\n",
        " r.search(\"aabc\"))"
      ],
      "metadata": {
        "colab": {
          "base_uri": "https://localhost:8080/"
        },
        "id": "RE5MAMXh1fVu",
        "outputId": "538e8dd0-40cc-4270-a45e-5b68629bd0a7"
      },
      "execution_count": 130,
      "outputs": [
        {
          "output_type": "execute_result",
          "data": {
            "text/plain": [
              "(None,\n",
              " None,\n",
              " <re.Match object; span=(0, 10), match='aaaaaaaabc'>,\n",
              " <re.Match object; span=(0, 4), match='aabc'>)"
            ]
          },
          "metadata": {},
          "execution_count": 130
        }
      ]
    },
    {
      "cell_type": "code",
      "source": [
        "# []기호\n",
        "r = re.compile(\"[abc]\") # [abc]는 [a-c]와 같다.\n",
        "(r.search(\"zzz\"), # 아무런 결과도 출력되지 않는다.\n",
        " r.search(\"a\"),\n",
        " r.search(\"aaaaaaa\"),\n",
        " r.search(\"baac\"))"
      ],
      "metadata": {
        "colab": {
          "base_uri": "https://localhost:8080/"
        },
        "id": "DidpkCOm1fUK",
        "outputId": "4e02d745-72c9-4c2b-e599-58507333b0e2"
      },
      "execution_count": 134,
      "outputs": [
        {
          "output_type": "execute_result",
          "data": {
            "text/plain": [
              "(None,\n",
              " <re.Match object; span=(0, 1), match='a'>,\n",
              " <re.Match object; span=(0, 1), match='a'>,\n",
              " <re.Match object; span=(0, 1), match='b'>)"
            ]
          },
          "metadata": {},
          "execution_count": 134
        }
      ]
    },
    {
      "cell_type": "code",
      "source": [
        "# []기호\n",
        "r = re.compile(\"[a-z]\")\n",
        "(r.search(\"AAA\"), # 아무런 결과도 출력되지 않는다.\n",
        " r.search(\"111\"), # 아무런 결과도 출력되지 않는다.\n",
        " r.search(\"aBC\"))"
      ],
      "metadata": {
        "colab": {
          "base_uri": "https://localhost:8080/"
        },
        "id": "fGHRz2Nw1fRv",
        "outputId": "b4bef97a-8ec6-4c1f-8232-b38d2ec1e7d2"
      },
      "execution_count": 136,
      "outputs": [
        {
          "output_type": "execute_result",
          "data": {
            "text/plain": [
              "(None, None, <re.Match object; span=(0, 1), match='a'>)"
            ]
          },
          "metadata": {},
          "execution_count": 136
        }
      ]
    },
    {
      "cell_type": "code",
      "source": [
        "# [^문자] 기호\n",
        "r = re.compile(\"[^abc]\")\n",
        "\n",
        "# 아래의 세 코드는 아무런 결과도 출력되지 않는다.\n",
        "(r.search(\"a\"),\n",
        " r.search(\"ab\"), \n",
        " r.search(\"b\"),\n",
        " r.search(\"d\"),\n",
        " r.search(\"1\"))"
      ],
      "metadata": {
        "colab": {
          "base_uri": "https://localhost:8080/"
        },
        "id": "ykITYdXm1fP-",
        "outputId": "71216698-f6ca-475b-e81f-67a3ffd8579f"
      },
      "execution_count": 137,
      "outputs": [
        {
          "output_type": "execute_result",
          "data": {
            "text/plain": [
              "(None,\n",
              " None,\n",
              " None,\n",
              " <re.Match object; span=(0, 1), match='d'>,\n",
              " <re.Match object; span=(0, 1), match='1'>)"
            ]
          },
          "metadata": {},
          "execution_count": 137
        }
      ]
    },
    {
      "cell_type": "markdown",
      "source": [
        "**(2) 모듈 함수**"
      ],
      "metadata": {
        "id": "MamMUdve2Pjn"
      }
    },
    {
      "cell_type": "code",
      "source": [
        "# re.match() 와 re.search()의 차이\n",
        "r = re.compile(\"ab.\")\n",
        "(r.match(\"kkkabc\"),  # 아무런 결과도 출력되지 않는다.\n",
        " r.search(\"kkkabc\"),\n",
        " r.match(\"abckkk\")) # match는 텍스트의 시작이 패턴 형식이어야 한다"
      ],
      "metadata": {
        "colab": {
          "base_uri": "https://localhost:8080/"
        },
        "id": "a3eSJ8yf2oX7",
        "outputId": "e7d41872-faed-4772-a6b8-60b8adaad494"
      },
      "execution_count": 140,
      "outputs": [
        {
          "output_type": "execute_result",
          "data": {
            "text/plain": [
              "(None,\n",
              " <re.Match object; span=(3, 6), match='abc'>,\n",
              " <re.Match object; span=(0, 3), match='abc'>)"
            ]
          },
          "metadata": {},
          "execution_count": 140
        }
      ]
    },
    {
      "cell_type": "code",
      "source": [
        "# re.split()\n",
        "text_1 = \"사과 딸기 수박 메론 바나나\"\n",
        "text_2 = \"\"\"사과\n",
        "딸기\n",
        "수박\n",
        "메론\n",
        "바나나\"\"\"\n",
        "text_3 = \"사과+딸기+수박+메론+바나나\"\n",
        "(re.split(\" \",text_1),\n",
        "re.split(\"\\n\",text_2),\n",
        "re.split(\"\\+\",text_3))"
      ],
      "metadata": {
        "colab": {
          "base_uri": "https://localhost:8080/"
        },
        "id": "QIjh6R5U2riv",
        "outputId": "7f8517e7-6fbd-45b5-d4ce-6320de66e2e2"
      },
      "execution_count": 149,
      "outputs": [
        {
          "output_type": "execute_result",
          "data": {
            "text/plain": [
              "(['사과', '딸기', '수박', '메론', '바나나'],\n",
              " ['사과', '딸기', '수박', '메론', '바나나'],\n",
              " ['사과', '딸기', '수박', '메론', '바나나'])"
            ]
          },
          "metadata": {},
          "execution_count": 149
        }
      ]
    },
    {
      "cell_type": "code",
      "source": [
        "# re.findall()\n",
        "text = \"\"\"이름 : 김철수\n",
        "전화번호 : 010 - 1234 - 1234\n",
        "나이 : 30\n",
        "성별 : 남\"\"\"\n",
        "\n",
        "(re.findall(\"\\d+\",text),\n",
        "re.findall(\"\\d+\", \"문자열입니다.\"))"
      ],
      "metadata": {
        "colab": {
          "base_uri": "https://localhost:8080/"
        },
        "id": "VmXbeziF3zPN",
        "outputId": "5883fa1e-541e-40b0-c231-eb1aff5b84ab"
      },
      "execution_count": 150,
      "outputs": [
        {
          "output_type": "execute_result",
          "data": {
            "text/plain": [
              "(['010', '1234', '1234', '30'], [])"
            ]
          },
          "metadata": {},
          "execution_count": 150
        }
      ]
    },
    {
      "cell_type": "code",
      "source": [
        "# re.sub()\n",
        "text = \"Regular expression : A regular expression, regex or regexp[1] (sometimes called a rational expression)[2][3] is, in theoretical computer science and formal language theory, a sequence of characters that define a search pattern.\"\n",
        "\n",
        "preprocessed_text = re.sub('[^a-zA-Z ]', '', text)\n",
        "preprocessed_text"
      ],
      "metadata": {
        "colab": {
          "base_uri": "https://localhost:8080/",
          "height": 70
        },
        "id": "T5YYvga23zNa",
        "outputId": "52aebb68-e64e-44c2-e3bb-cfc677e4d3b1"
      },
      "execution_count": 161,
      "outputs": [
        {
          "output_type": "execute_result",
          "data": {
            "application/vnd.google.colaboratory.intrinsic+json": {
              "type": "string"
            },
            "text/plain": [
              "'Regular expression  A regular expression regex or regexp sometimes called a rational expression is in theoretical computer science and formal language theory a sequence of characters that define a search pattern'"
            ]
          },
          "metadata": {},
          "execution_count": 161
        }
      ]
    },
    {
      "cell_type": "markdown",
      "source": [
        "**(3) 텍스트 전처리**"
      ],
      "metadata": {
        "id": "mhSuBR7j2eXn"
      }
    },
    {
      "cell_type": "code",
      "source": [
        "text = \"\"\"100 John    PROF\n",
        "101 James   STUD\n",
        "102 Mac   STUD\"\"\"  \n",
        "\n",
        "(re.split('\\s+', text),\n",
        "re.findall('\\d+',text),\n",
        "re.findall('[A-Z]',text),\n",
        "re.findall('[A-Z]{4}',text),\n",
        "re.findall('[A-Z][a-z]+',text))"
      ],
      "metadata": {
        "colab": {
          "base_uri": "https://localhost:8080/"
        },
        "id": "SzvgcAAz4UW9",
        "outputId": "09d69cdd-e9ce-4c13-af3e-a83fa0ebae80"
      },
      "execution_count": 165,
      "outputs": [
        {
          "output_type": "execute_result",
          "data": {
            "text/plain": [
              "(['100', 'John', 'PROF', '101', 'James', 'STUD', '102', 'Mac', 'STUD'],\n",
              " ['100', '101', '102'],\n",
              " ['J', 'P', 'R', 'O', 'F', 'J', 'S', 'T', 'U', 'D', 'M', 'S', 'T', 'U', 'D'],\n",
              " ['PROF', 'STUD', 'STUD'],\n",
              " ['John', 'James', 'Mac'])"
            ]
          },
          "metadata": {},
          "execution_count": 165
        }
      ]
    },
    {
      "cell_type": "markdown",
      "source": [
        "**(4) 토큰화**"
      ],
      "metadata": {
        "id": "ZkcF35JK2kAt"
      }
    },
    {
      "cell_type": "code",
      "source": [
        "from nltk.tokenize import RegexpTokenizer\n",
        "\n",
        "text = \"Don't be fooled by the dark sounding name, Mr. Jone's Orphanage is as cheery as cheery goes for a pastry shop\"\n",
        "\n",
        "tokenizer1 = RegexpTokenizer(\"[\\w]+\")\n",
        "tokenizer2 = RegexpTokenizer(\"[\\s]+\", gaps=True)\n",
        "\n",
        "print(tokenizer1.tokenize(text))\n",
        "print(tokenizer2.tokenize(text))"
      ],
      "metadata": {
        "colab": {
          "base_uri": "https://localhost:8080/"
        },
        "id": "9DemvybF4l-L",
        "outputId": "dde594fb-6727-44ee-db7c-1cb2323cd0b8"
      },
      "execution_count": 175,
      "outputs": [
        {
          "output_type": "stream",
          "name": "stdout",
          "text": [
            "['Don', 't', 'be', 'fooled', 'by', 'the', 'dark', 'sounding', 'name', 'Mr', 'Jone', 's', 'Orphanage', 'is', 'as', 'cheery', 'as', 'cheery', 'goes', 'for', 'a', 'pastry', 'shop']\n",
            "[\"Don't\", 'be', 'fooled', 'by', 'the', 'dark', 'sounding', 'name,', 'Mr.', \"Jone's\", 'Orphanage', 'is', 'as', 'cheery', 'as', 'cheery', 'goes', 'for', 'a', 'pastry', 'shop']\n"
          ]
        }
      ]
    },
    {
      "cell_type": "markdown",
      "source": [
        "### 5.3. 인코딩\n",
        "* 컴퓨터는 텍스트보다는 숫자를 더 잘 처리\n",
        "* 자연어 처리에서는 텍스트를 숫자로 바꾸는 여러가지 기법들이 있음\n",
        "* 단어를 고유한 정수에 맵핑(mapping)시키는 전처리 작업"
      ],
      "metadata": {
        "id": "B4Piw8Qoscnj"
      }
    },
    {
      "cell_type": "markdown",
      "source": [
        "#### 5.3.1. 정수 인코딩\n",
        "\n",
        "* 단어에 정수를 부여하는 방법\n",
        "* 단어를 빈도수 순으로 정렬한 단어 집합을 만듦\n",
        "* 빈도수가 높은 순서대로 차례로 낮은 숫자부터 정수를 부여"
      ],
      "metadata": {
        "id": "8FXGmPABuQrE"
      }
    },
    {
      "cell_type": "markdown",
      "source": [
        "**(1) dictionary 사용하기**"
      ],
      "metadata": {
        "id": "zucJYKRM7d0-"
      }
    },
    {
      "cell_type": "code",
      "source": [
        "# 문장 토큰화\n",
        "raw_text = \"A barber is a person. a barber is good person. a barber is huge person. he Knew A Secret! The Secret He Kept is huge secret. Huge secret. His barber kept his word. a barber kept his word. His barber kept his secret. But keeping and keeping such a huge secret to himself was driving the barber crazy. the barber went up a huge mountain.\"\n",
        "sentences = sent_tokenize(raw_text)\n",
        "sentences"
      ],
      "metadata": {
        "colab": {
          "base_uri": "https://localhost:8080/"
        },
        "id": "I34_9LTm7hk_",
        "outputId": "57b76da0-8714-4118-b3ee-d96eeeaa6f3e"
      },
      "execution_count": 177,
      "outputs": [
        {
          "output_type": "execute_result",
          "data": {
            "text/plain": [
              "['A barber is a person.',\n",
              " 'a barber is good person.',\n",
              " 'a barber is huge person.',\n",
              " 'he Knew A Secret!',\n",
              " 'The Secret He Kept is huge secret.',\n",
              " 'Huge secret.',\n",
              " 'His barber kept his word.',\n",
              " 'a barber kept his word.',\n",
              " 'His barber kept his secret.',\n",
              " 'But keeping and keeping such a huge secret to himself was driving the barber crazy.',\n",
              " 'the barber went up a huge mountain.']"
            ]
          },
          "metadata": {},
          "execution_count": 177
        }
      ]
    },
    {
      "cell_type": "code",
      "source": [
        "# 정제 및 정규화\n",
        "vocab = {}\n",
        "preprocessed_sentences = []\n",
        "stop_words = set(stopwords.words('english'))\n",
        "\n",
        "for sentence in sentences:\n",
        "    # 단어 토큰화\n",
        "    tokenized_sentence = word_tokenize(sentence)\n",
        "    result = []\n",
        "\n",
        "    for word in tokenized_sentence: \n",
        "        word = word.lower() # 모든 단어를 소문자화하여 단어의 개수를 줄인다.\n",
        "        if word not in stop_words: # 단어 토큰화 된 결과에 대해서 불용어를 제거한다.\n",
        "            if len(word) > 2: # 단어 길이가 2이하인 경우에 대하여 추가로 단어를 제거한다.\n",
        "                result.append(word)\n",
        "                if word not in vocab:\n",
        "                    vocab[word] = 0 \n",
        "                vocab[word] += 1\n",
        "    preprocessed_sentences.append(result) \n",
        "preprocessed_sentences"
      ],
      "metadata": {
        "colab": {
          "base_uri": "https://localhost:8080/"
        },
        "id": "9aV5Sxm87pB2",
        "outputId": "adb88090-c5ce-4c13-dfd8-b7141da49295"
      },
      "execution_count": 179,
      "outputs": [
        {
          "output_type": "execute_result",
          "data": {
            "text/plain": [
              "[['barber', 'person'],\n",
              " ['barber', 'good', 'person'],\n",
              " ['barber', 'huge', 'person'],\n",
              " ['knew', 'secret'],\n",
              " ['secret', 'kept', 'huge', 'secret'],\n",
              " ['huge', 'secret'],\n",
              " ['barber', 'kept', 'word'],\n",
              " ['barber', 'kept', 'word'],\n",
              " ['barber', 'kept', 'secret'],\n",
              " ['keeping', 'keeping', 'huge', 'secret', 'driving', 'barber', 'crazy'],\n",
              " ['barber', 'went', 'huge', 'mountain']]"
            ]
          },
          "metadata": {},
          "execution_count": 179
        }
      ]
    },
    {
      "cell_type": "code",
      "source": [
        "# 딕셔너리\n",
        "vocab"
      ],
      "metadata": {
        "colab": {
          "base_uri": "https://localhost:8080/"
        },
        "id": "3FdxhP637xgM",
        "outputId": "3fed4eba-8e4a-4f06-e789-fce0e4e61b5b"
      },
      "execution_count": 181,
      "outputs": [
        {
          "output_type": "execute_result",
          "data": {
            "text/plain": [
              "{'barber': 8,\n",
              " 'crazy': 1,\n",
              " 'driving': 1,\n",
              " 'good': 1,\n",
              " 'huge': 5,\n",
              " 'keeping': 2,\n",
              " 'kept': 4,\n",
              " 'knew': 1,\n",
              " 'mountain': 1,\n",
              " 'person': 3,\n",
              " 'secret': 6,\n",
              " 'went': 1,\n",
              " 'word': 2}"
            ]
          },
          "metadata": {},
          "execution_count": 181
        }
      ]
    },
    {
      "cell_type": "code",
      "source": [
        "# 딕셔너리 정렬\n",
        "vocab_sorted = sorted(vocab.items(), key = lambda x:x[1], reverse = True)\n",
        "vocab_sorted"
      ],
      "metadata": {
        "colab": {
          "base_uri": "https://localhost:8080/"
        },
        "id": "g_qGymBB7xaA",
        "outputId": "e39dd60a-97e8-4d92-b38e-1c4a00ca36e0"
      },
      "execution_count": 182,
      "outputs": [
        {
          "output_type": "execute_result",
          "data": {
            "text/plain": [
              "[('barber', 8),\n",
              " ('secret', 6),\n",
              " ('huge', 5),\n",
              " ('kept', 4),\n",
              " ('person', 3),\n",
              " ('word', 2),\n",
              " ('keeping', 2),\n",
              " ('good', 1),\n",
              " ('knew', 1),\n",
              " ('driving', 1),\n",
              " ('crazy', 1),\n",
              " ('went', 1),\n",
              " ('mountain', 1)]"
            ]
          },
          "metadata": {},
          "execution_count": 182
        }
      ]
    },
    {
      "cell_type": "code",
      "source": [
        "# 정렬된 인덱싱 값 부여\n",
        "word_to_index = {}\n",
        "i = 0\n",
        "for (word, frequency) in vocab_sorted :\n",
        "    if frequency > 1 : # 빈도수가 작은 단어는 제외.\n",
        "        i = i + 1\n",
        "        word_to_index[word] = i\n",
        "word_to_index"
      ],
      "metadata": {
        "colab": {
          "base_uri": "https://localhost:8080/"
        },
        "id": "ungkpTB878Fj",
        "outputId": "53406311-fe39-4676-8fdc-9c02b8ad2f10"
      },
      "execution_count": 183,
      "outputs": [
        {
          "output_type": "execute_result",
          "data": {
            "text/plain": [
              "{'barber': 1,\n",
              " 'huge': 3,\n",
              " 'keeping': 7,\n",
              " 'kept': 4,\n",
              " 'person': 5,\n",
              " 'secret': 2,\n",
              " 'word': 6}"
            ]
          },
          "metadata": {},
          "execution_count": 183
        }
      ]
    },
    {
      "cell_type": "code",
      "source": [
        "# 등장 빈도수가 높은 상위 5개의 단어만 저장\n",
        "vocab_size = 5\n",
        "words_frequency = [word for word, index in word_to_index.items() if index >= vocab_size + 1] # 인덱스가 5 초과인 단어 제거\n",
        "for w in words_frequency:\n",
        "    del word_to_index[w] # 해당 단어에 대한 인덱스 정보를 삭제\n",
        "print(word_to_index)"
      ],
      "metadata": {
        "colab": {
          "base_uri": "https://localhost:8080/"
        },
        "id": "G6DLEXGt89cB",
        "outputId": "aff3d619-a650-4b88-fda9-cbe829e4ea8a"
      },
      "execution_count": 184,
      "outputs": [
        {
          "output_type": "stream",
          "name": "stdout",
          "text": [
            "{'barber': 1, 'secret': 2, 'huge': 3, 'kept': 4, 'person': 5}\n"
          ]
        }
      ]
    },
    {
      "cell_type": "code",
      "source": [
        "# Out of Vocabulary\n",
        "word_to_index['OOV'] = len(word_to_index) + 1\n",
        "print(word_to_index)"
      ],
      "metadata": {
        "colab": {
          "base_uri": "https://localhost:8080/"
        },
        "id": "PCpNjuv09CZz",
        "outputId": "b3d79f6a-8f2b-45c3-96fc-a1d889cf6aa3"
      },
      "execution_count": 186,
      "outputs": [
        {
          "output_type": "stream",
          "name": "stdout",
          "text": [
            "{'barber': 1, 'secret': 2, 'huge': 3, 'kept': 4, 'person': 5, 'OOV': 7}\n"
          ]
        }
      ]
    },
    {
      "cell_type": "code",
      "source": [
        "# word_to_index를 사용하여 sentences의 모든 단어들을 맵핑되는 정수로 인코딩\n",
        "encoded_sentences = []\n",
        "for sentence in preprocessed_sentences:\n",
        "    encoded_sentence = []\n",
        "    for word in sentence:\n",
        "        try:\n",
        "            encoded_sentence.append(word_to_index[word])\n",
        "        except KeyError:\n",
        "            encoded_sentence.append(word_to_index['OOV'])\n",
        "    encoded_sentences.append(encoded_sentence)\n",
        "print(encoded_sentences)"
      ],
      "metadata": {
        "colab": {
          "base_uri": "https://localhost:8080/"
        },
        "id": "SCAa-vm39IUs",
        "outputId": "1cef15db-8ae3-498a-cac6-37e6c5abbc60"
      },
      "execution_count": 187,
      "outputs": [
        {
          "output_type": "stream",
          "name": "stdout",
          "text": [
            "[[1, 5], [1, 7, 5], [1, 3, 5], [7, 2], [2, 4, 3, 2], [3, 2], [1, 4, 7], [1, 4, 7], [1, 4, 2], [7, 7, 3, 2, 7, 1, 7], [1, 7, 3, 7]]\n"
          ]
        }
      ]
    },
    {
      "cell_type": "markdown",
      "source": [
        "**(2) Counter 사용하기**"
      ],
      "metadata": {
        "id": "sveTKqID9dtH"
      }
    },
    {
      "cell_type": "code",
      "source": [
        "from collections import Counter\n",
        "preprocessed_sentences"
      ],
      "metadata": {
        "colab": {
          "base_uri": "https://localhost:8080/"
        },
        "id": "DPM1qPpm9dih",
        "outputId": "127e8d32-0c29-4c4e-ff4b-6c759cf7d3a4"
      },
      "execution_count": 188,
      "outputs": [
        {
          "output_type": "execute_result",
          "data": {
            "text/plain": [
              "[['barber', 'person'],\n",
              " ['barber', 'good', 'person'],\n",
              " ['barber', 'huge', 'person'],\n",
              " ['knew', 'secret'],\n",
              " ['secret', 'kept', 'huge', 'secret'],\n",
              " ['huge', 'secret'],\n",
              " ['barber', 'kept', 'word'],\n",
              " ['barber', 'kept', 'word'],\n",
              " ['barber', 'kept', 'secret'],\n",
              " ['keeping', 'keeping', 'huge', 'secret', 'driving', 'barber', 'crazy'],\n",
              " ['barber', 'went', 'huge', 'mountain']]"
            ]
          },
          "metadata": {},
          "execution_count": 188
        }
      ]
    },
    {
      "cell_type": "code",
      "source": [
        "# words = np.hstack(preprocessed_sentences)으로도 수행 가능.\n",
        "all_words_list = sum(preprocessed_sentences, [])\n",
        "print(all_words_list)"
      ],
      "metadata": {
        "colab": {
          "base_uri": "https://localhost:8080/"
        },
        "id": "7yzs-kbj91ba",
        "outputId": "f7dda507-a9f9-4830-8b6e-71bef339515b"
      },
      "execution_count": 191,
      "outputs": [
        {
          "output_type": "stream",
          "name": "stdout",
          "text": [
            "['barber', 'person', 'barber', 'good', 'person', 'barber', 'huge', 'person', 'knew', 'secret', 'secret', 'kept', 'huge', 'secret', 'huge', 'secret', 'barber', 'kept', 'word', 'barber', 'kept', 'word', 'barber', 'kept', 'secret', 'keeping', 'keeping', 'huge', 'secret', 'driving', 'barber', 'crazy', 'barber', 'went', 'huge', 'mountain']\n"
          ]
        }
      ]
    },
    {
      "cell_type": "code",
      "source": [
        "# 파이썬의 Counter 모듈을 이용하여 단어의 빈도수 카운트\n",
        "vocab = Counter(all_words_list)\n",
        "vocab"
      ],
      "metadata": {
        "colab": {
          "base_uri": "https://localhost:8080/"
        },
        "id": "PjAOfLce96Pj",
        "outputId": "4b154b42-5fb9-4457-fe90-6995f16051ff"
      },
      "execution_count": 193,
      "outputs": [
        {
          "output_type": "execute_result",
          "data": {
            "text/plain": [
              "Counter({'barber': 8,\n",
              "         'crazy': 1,\n",
              "         'driving': 1,\n",
              "         'good': 1,\n",
              "         'huge': 5,\n",
              "         'keeping': 2,\n",
              "         'kept': 4,\n",
              "         'knew': 1,\n",
              "         'mountain': 1,\n",
              "         'person': 3,\n",
              "         'secret': 6,\n",
              "         'went': 1,\n",
              "         'word': 2})"
            ]
          },
          "metadata": {},
          "execution_count": 193
        }
      ]
    },
    {
      "cell_type": "code",
      "source": [
        "# 등장 빈도수가 높은 상위 5개의 단어만 저장\n",
        "vocab_size = 5\n",
        "vocab = vocab.most_common(vocab_size) \n",
        "vocab"
      ],
      "metadata": {
        "colab": {
          "base_uri": "https://localhost:8080/"
        },
        "id": "SUt4XXPH99rW",
        "outputId": "e175e2bd-21e6-4cd9-b9eb-45b566951384"
      },
      "execution_count": 194,
      "outputs": [
        {
          "output_type": "execute_result",
          "data": {
            "text/plain": [
              "[('barber', 8), ('secret', 6), ('huge', 5), ('kept', 4), ('person', 3)]"
            ]
          },
          "metadata": {},
          "execution_count": 194
        }
      ]
    },
    {
      "cell_type": "code",
      "source": [
        "# 인덱싱 매핑\n",
        "word_to_index = {}\n",
        "i = 0\n",
        "for (word, frequency) in vocab :\n",
        "    i = i + 1\n",
        "    word_to_index[word] = i\n",
        "    \n",
        "word_to_index"
      ],
      "metadata": {
        "colab": {
          "base_uri": "https://localhost:8080/"
        },
        "id": "yIuxsTPO-BlC",
        "outputId": "769f2f89-b2aa-4f4d-e696-326ca14d72bb"
      },
      "execution_count": 195,
      "outputs": [
        {
          "output_type": "execute_result",
          "data": {
            "text/plain": [
              "{'barber': 1, 'huge': 3, 'kept': 4, 'person': 5, 'secret': 2}"
            ]
          },
          "metadata": {},
          "execution_count": 195
        }
      ]
    },
    {
      "cell_type": "markdown",
      "source": [
        "**(3) NLTK의 FreqDist 사용하기**\n",
        "* NLTK에서는 빈도수 계산 도구인 FreqDist()를 지원"
      ],
      "metadata": {
        "id": "_UYTDFZA9hgv"
      }
    },
    {
      "cell_type": "code",
      "source": [
        "from nltk import FreqDist\n",
        "import numpy as np\n",
        "\n",
        "vocab = FreqDist(np.hstack(preprocessed_sentences))\n",
        "vocab"
      ],
      "metadata": {
        "colab": {
          "base_uri": "https://localhost:8080/"
        },
        "id": "LqJ5lb-T-R2-",
        "outputId": "f348599d-52c3-4a61-ea51-217fdf0afb29"
      },
      "execution_count": 198,
      "outputs": [
        {
          "output_type": "execute_result",
          "data": {
            "text/plain": [
              "FreqDist({'barber': 8,\n",
              "          'crazy': 1,\n",
              "          'driving': 1,\n",
              "          'good': 1,\n",
              "          'huge': 5,\n",
              "          'keeping': 2,\n",
              "          'kept': 4,\n",
              "          'knew': 1,\n",
              "          'mountain': 1,\n",
              "          'person': 3,\n",
              "          'secret': 6,\n",
              "          'went': 1,\n",
              "          'word': 2})"
            ]
          },
          "metadata": {},
          "execution_count": 198
        }
      ]
    },
    {
      "cell_type": "code",
      "source": [
        "# 등장 빈도수가 높은 상위 5개의 단어만 저장\n",
        "vocab_size = 5\n",
        "vocab = vocab.most_common(vocab_size)\n",
        "print(vocab)"
      ],
      "metadata": {
        "colab": {
          "base_uri": "https://localhost:8080/"
        },
        "id": "JF7eyRmL-R1z",
        "outputId": "aba05ca6-38a5-4c97-abb9-8d509bb8a85a"
      },
      "execution_count": 199,
      "outputs": [
        {
          "output_type": "stream",
          "name": "stdout",
          "text": [
            "[('barber', 8), ('secret', 6), ('huge', 5), ('kept', 4), ('person', 3)]\n"
          ]
        }
      ]
    },
    {
      "cell_type": "code",
      "source": [
        "# 인덱싱 매핑\n",
        "word_to_index = {word[0] : index + 1 for index, word in enumerate(vocab)}\n",
        "print(word_to_index)"
      ],
      "metadata": {
        "colab": {
          "base_uri": "https://localhost:8080/"
        },
        "id": "-0nYt4fB-Rys",
        "outputId": "f7f7e55c-a619-4790-c5e9-3a23ef142b12"
      },
      "execution_count": 200,
      "outputs": [
        {
          "output_type": "stream",
          "name": "stdout",
          "text": [
            "{'barber': 1, 'secret': 2, 'huge': 3, 'kept': 4, 'person': 5}\n"
          ]
        }
      ]
    },
    {
      "cell_type": "markdown",
      "source": [
        "**(5) 케라스(Keras)의 텍스트 전처리**\n",
        "* 케라스(Keras)는 기본적인 전처리를 위한 도구들을 제공"
      ],
      "metadata": {
        "id": "jQ__pwHY9pS3"
      }
    },
    {
      "cell_type": "code",
      "source": [
        "from tensorflow.keras.preprocessing.text import Tokenizer\n",
        "preprocessed_sentences = [['barber', 'person'], ['barber', 'good', 'person'], ['barber', 'huge', 'person'], ['knew', 'secret'], ['secret', 'kept', 'huge', 'secret'], ['huge', 'secret'], ['barber', 'kept', 'word'], ['barber', 'kept', 'word'], ['barber', 'kept', 'secret'], ['keeping', 'keeping', 'huge', 'secret', 'driving', 'barber', 'crazy'], ['barber', 'went', 'huge', 'mountain']]\n",
        "preprocessed_sentences\n"
      ],
      "metadata": {
        "colab": {
          "base_uri": "https://localhost:8080/"
        },
        "id": "4PFfgX3p-kG3",
        "outputId": "e9e021df-581e-470b-df02-513778ef12a1"
      },
      "execution_count": 224,
      "outputs": [
        {
          "output_type": "execute_result",
          "data": {
            "text/plain": [
              "[['barber', 'person'],\n",
              " ['barber', 'good', 'person'],\n",
              " ['barber', 'huge', 'person'],\n",
              " ['knew', 'secret'],\n",
              " ['secret', 'kept', 'huge', 'secret'],\n",
              " ['huge', 'secret'],\n",
              " ['barber', 'kept', 'word'],\n",
              " ['barber', 'kept', 'word'],\n",
              " ['barber', 'kept', 'secret'],\n",
              " ['keeping', 'keeping', 'huge', 'secret', 'driving', 'barber', 'crazy'],\n",
              " ['barber', 'went', 'huge', 'mountain']]"
            ]
          },
          "metadata": {},
          "execution_count": 224
        }
      ]
    },
    {
      "cell_type": "code",
      "source": [
        "vocab_size = 5\n",
        "\n",
        "tokenizer = Tokenizer(num_words = vocab_size + 1) # 상위 5개 단어만 사용\n",
        "tokenizer.fit_on_texts(preprocessed_sentences)\n",
        "\n",
        "# 인덱스가 5 초과인 단어 제거\n",
        "words_frequency = [word for word, index in tokenizer.word_index.items() \n",
        "                   if index >= vocab_size + 1]\n",
        "\n",
        "for word in words_frequency:\n",
        "    del tokenizer.word_index[word] # 해당 단어에 대한 인덱스 정보를 삭제\n",
        "    del tokenizer.word_counts[word] # 해당 단어에 대한 카운트 정보를 삭제\n",
        "\n",
        "print(tokenizer.word_index)\n",
        "print(tokenizer.word_counts)\n",
        "print(tokenizer.texts_to_sequences(preprocessed_sentences))"
      ],
      "metadata": {
        "colab": {
          "base_uri": "https://localhost:8080/"
        },
        "id": "Nla1E07C_LWu",
        "outputId": "e0fd9175-2435-404c-d909-fa2f32c37e18"
      },
      "execution_count": 225,
      "outputs": [
        {
          "output_type": "stream",
          "name": "stdout",
          "text": [
            "{'barber': 1, 'secret': 2, 'huge': 3, 'kept': 4, 'person': 5}\n",
            "OrderedDict([('barber', 8), ('person', 3), ('huge', 5), ('secret', 6), ('kept', 4)])\n",
            "[[1, 5], [1, 5], [1, 3, 5], [2], [2, 4, 3, 2], [3, 2], [1, 4], [1, 4], [1, 4, 2], [3, 2, 1], [1, 3]]\n"
          ]
        }
      ]
    },
    {
      "cell_type": "code",
      "source": [
        "# 숫자 0과 OOV를 고려해서 단어 집합의 크기는 +2\n",
        "vocab_size = 5\n",
        "tokenizer = Tokenizer(num_words = vocab_size + 2, oov_token = 'OOV')\n",
        "tokenizer.fit_on_texts(preprocessed_sentences)\n",
        "print('단어 OOV의 인덱스 : {}'.format(tokenizer.word_index['OOV']))"
      ],
      "metadata": {
        "colab": {
          "base_uri": "https://localhost:8080/"
        },
        "id": "lSZ46xGM_ft1",
        "outputId": "396d2af0-2aa9-4e08-c3b2-b8f109736dfa"
      },
      "execution_count": 219,
      "outputs": [
        {
          "output_type": "stream",
          "name": "stdout",
          "text": [
            "단어 OOV의 인덱스 : 1\n"
          ]
        }
      ]
    },
    {
      "cell_type": "code",
      "source": [
        "# 인코딩 결과\n",
        "print(tokenizer.texts_to_sequences(preprocessed_sentences))"
      ],
      "metadata": {
        "colab": {
          "base_uri": "https://localhost:8080/"
        },
        "id": "5MnV-xsYAA2x",
        "outputId": "849a864f-beae-4fb4-a518-3a794948ce46"
      },
      "execution_count": 220,
      "outputs": [
        {
          "output_type": "stream",
          "name": "stdout",
          "text": [
            "[[2, 6], [2, 1, 6], [2, 4, 6], [1, 3], [3, 5, 4, 3], [4, 3], [2, 5, 1], [2, 5, 1], [2, 5, 3], [1, 1, 4, 3, 1, 2, 1], [2, 1, 4, 1]]\n"
          ]
        }
      ]
    },
    {
      "cell_type": "markdown",
      "source": [
        "#### 5.3.2. 패딩\n",
        "\n",
        "* 기계는 길이가 전부 동일한 문서들에 대해서는 하나의 행렬로 보고, 한꺼번에 묶어서 처리\n",
        "* 병렬 연산을 위해서 여러 문장의 길이를 임의로 동일하게 맞춰주는 작업이 필요함\n",
        "* 패딩(padding): 데이터에 특정 값을 채워서 데이터의 크기(shape)를 조정하는 것"
      ],
      "metadata": {
        "id": "q7q8r_QhuTWc"
      }
    },
    {
      "cell_type": "markdown",
      "source": [
        "**(1) Numpy로 패딩하기**"
      ],
      "metadata": {
        "id": "q4mIkINMBj14"
      }
    },
    {
      "cell_type": "code",
      "source": [
        "# copus\n",
        "preprocessed_sentences = [['barber', 'person'], ['barber', 'good', 'person'], ['barber', 'huge', 'person'], ['knew', 'secret'], ['secret', 'kept', 'huge', 'secret'], ['huge', 'secret'], ['barber', 'kept', 'word'], ['barber', 'kept', 'word'], ['barber', 'kept', 'secret'], ['keeping', 'keeping', 'huge', 'secret', 'driving', 'barber', 'crazy'], ['barber', 'went', 'huge', 'mountain']]\n",
        "\n",
        "# encoding\n",
        "tokenizer = Tokenizer()\n",
        "tokenizer.fit_on_texts(preprocessed_sentences)\n",
        "encoded = tokenizer.texts_to_sequences(preprocessed_sentences)\n",
        "\n",
        "encoded"
      ],
      "metadata": {
        "colab": {
          "base_uri": "https://localhost:8080/"
        },
        "id": "gClSh7C3CNvQ",
        "outputId": "85dbcac1-9f75-4f9a-a132-6b1394831910"
      },
      "execution_count": 226,
      "outputs": [
        {
          "output_type": "execute_result",
          "data": {
            "text/plain": [
              "[[1, 5],\n",
              " [1, 8, 5],\n",
              " [1, 3, 5],\n",
              " [9, 2],\n",
              " [2, 4, 3, 2],\n",
              " [3, 2],\n",
              " [1, 4, 6],\n",
              " [1, 4, 6],\n",
              " [1, 4, 2],\n",
              " [7, 7, 3, 2, 10, 1, 11],\n",
              " [1, 12, 3, 13]]"
            ]
          },
          "metadata": {},
          "execution_count": 226
        }
      ]
    },
    {
      "cell_type": "code",
      "source": [
        "# set max-length\n",
        "## 모든 문장의 길이를 7로 맞춤\n",
        "max_len = max(len(item) for item in encoded)\n",
        "print('최대 길이 :',max_len)\n",
        "\n",
        "for sentence in encoded:\n",
        "    while len(sentence) < max_len:\n",
        "        # 제로 패딩(zero padding)\n",
        "        sentence.append(0)\n",
        "\n",
        "padded_np = np.array(encoded)\n",
        "padded_np"
      ],
      "metadata": {
        "colab": {
          "base_uri": "https://localhost:8080/"
        },
        "id": "WhPYLrVpCnd-",
        "outputId": "9f8c757e-9fc4-4c2c-b4f0-9514b8d25076"
      },
      "execution_count": 228,
      "outputs": [
        {
          "output_type": "stream",
          "name": "stdout",
          "text": [
            "최대 길이 : 7\n"
          ]
        },
        {
          "output_type": "execute_result",
          "data": {
            "text/plain": [
              "array([[ 1,  5,  0,  0,  0,  0,  0],\n",
              "       [ 1,  8,  5,  0,  0,  0,  0],\n",
              "       [ 1,  3,  5,  0,  0,  0,  0],\n",
              "       [ 9,  2,  0,  0,  0,  0,  0],\n",
              "       [ 2,  4,  3,  2,  0,  0,  0],\n",
              "       [ 3,  2,  0,  0,  0,  0,  0],\n",
              "       [ 1,  4,  6,  0,  0,  0,  0],\n",
              "       [ 1,  4,  6,  0,  0,  0,  0],\n",
              "       [ 1,  4,  2,  0,  0,  0,  0],\n",
              "       [ 7,  7,  3,  2, 10,  1, 11],\n",
              "       [ 1, 12,  3, 13,  0,  0,  0]])"
            ]
          },
          "metadata": {},
          "execution_count": 228
        }
      ]
    },
    {
      "cell_type": "markdown",
      "source": [
        "**(2) 케라스 전처리 도구로 패딩하기**"
      ],
      "metadata": {
        "id": "lAyiBcnHBjw0"
      }
    },
    {
      "cell_type": "code",
      "source": [
        "from tensorflow.keras.preprocessing.sequence import pad_sequences"
      ],
      "metadata": {
        "id": "x782NpssC6iP"
      },
      "execution_count": 232,
      "outputs": []
    },
    {
      "cell_type": "code",
      "source": [
        "# 인코딩\n",
        "encoded = tokenizer.texts_to_sequences(preprocessed_sentences)\n",
        "\n",
        "# 패딩\n",
        "## 넘파이와 다르게 앞을 0으로 채움\n",
        "padded = pad_sequences(encoded)\n",
        "padded"
      ],
      "metadata": {
        "colab": {
          "base_uri": "https://localhost:8080/"
        },
        "id": "mX-1oh2lCyku",
        "outputId": "9defb93e-9186-4a4c-9286-71fe251d8631"
      },
      "execution_count": 233,
      "outputs": [
        {
          "output_type": "execute_result",
          "data": {
            "text/plain": [
              "array([[ 0,  0,  0,  0,  0,  1,  5],\n",
              "       [ 0,  0,  0,  0,  1,  8,  5],\n",
              "       [ 0,  0,  0,  0,  1,  3,  5],\n",
              "       [ 0,  0,  0,  0,  0,  9,  2],\n",
              "       [ 0,  0,  0,  2,  4,  3,  2],\n",
              "       [ 0,  0,  0,  0,  0,  3,  2],\n",
              "       [ 0,  0,  0,  0,  1,  4,  6],\n",
              "       [ 0,  0,  0,  0,  1,  4,  6],\n",
              "       [ 0,  0,  0,  0,  1,  4,  2],\n",
              "       [ 7,  7,  3,  2, 10,  1, 11],\n",
              "       [ 0,  0,  0,  1, 12,  3, 13]], dtype=int32)"
            ]
          },
          "metadata": {},
          "execution_count": 233
        }
      ]
    },
    {
      "cell_type": "code",
      "source": [
        "# 넘파이와 같은 방식\n",
        "padded = pad_sequences(encoded, padding='post')\n",
        "padded"
      ],
      "metadata": {
        "colab": {
          "base_uri": "https://localhost:8080/"
        },
        "id": "YTeP8IuyDRfn",
        "outputId": "7fa4bb1f-5a07-4700-9407-6aea1f162046"
      },
      "execution_count": 234,
      "outputs": [
        {
          "output_type": "execute_result",
          "data": {
            "text/plain": [
              "array([[ 1,  5,  0,  0,  0,  0,  0],\n",
              "       [ 1,  8,  5,  0,  0,  0,  0],\n",
              "       [ 1,  3,  5,  0,  0,  0,  0],\n",
              "       [ 9,  2,  0,  0,  0,  0,  0],\n",
              "       [ 2,  4,  3,  2,  0,  0,  0],\n",
              "       [ 3,  2,  0,  0,  0,  0,  0],\n",
              "       [ 1,  4,  6,  0,  0,  0,  0],\n",
              "       [ 1,  4,  6,  0,  0,  0,  0],\n",
              "       [ 1,  4,  2,  0,  0,  0,  0],\n",
              "       [ 7,  7,  3,  2, 10,  1, 11],\n",
              "       [ 1, 12,  3, 13,  0,  0,  0]], dtype=int32)"
            ]
          },
          "metadata": {},
          "execution_count": 234
        }
      ]
    },
    {
      "cell_type": "code",
      "source": [
        "# 길이에 제한을 두고 패딩\n",
        "max_len = 5\n",
        "padded = pad_sequences(encoded, padding='post', maxlen=max_len)\n",
        "\n",
        "# 길이가 5보다 짧은 문서들은 0으로 패딩되고, 기존에 5보다 길었다면 데이터가 손실\n",
        "padded"
      ],
      "metadata": {
        "colab": {
          "base_uri": "https://localhost:8080/"
        },
        "id": "wvYuRXfhEX1P",
        "outputId": "eba0ff70-b651-415b-c20b-a2c07ae7e1ff"
      },
      "execution_count": 237,
      "outputs": [
        {
          "output_type": "execute_result",
          "data": {
            "text/plain": [
              "array([[ 1,  5,  0,  0,  0],\n",
              "       [ 1,  8,  5,  0,  0],\n",
              "       [ 1,  3,  5,  0,  0],\n",
              "       [ 9,  2,  0,  0,  0],\n",
              "       [ 2,  4,  3,  2,  0],\n",
              "       [ 3,  2,  0,  0,  0],\n",
              "       [ 1,  4,  6,  0,  0],\n",
              "       [ 1,  4,  6,  0,  0],\n",
              "       [ 1,  4,  2,  0,  0],\n",
              "       [ 3,  2, 10,  1, 11],\n",
              "       [ 1, 12,  3, 13,  0]], dtype=int32)"
            ]
          },
          "metadata": {},
          "execution_count": 237
        }
      ]
    },
    {
      "cell_type": "code",
      "source": [
        "# 데이터가 손실의 경우 뒤의 단어가 손실되도록 한다면 truncating이라는 인자를 사용\n",
        "padded = pad_sequences(encoded, padding='post', truncating='post', maxlen=max_len)\n",
        "padded"
      ],
      "metadata": {
        "colab": {
          "base_uri": "https://localhost:8080/"
        },
        "id": "0uiLr9V5EwP9",
        "outputId": "92cf963c-bb95-4a7e-f318-0c56eb528581"
      },
      "execution_count": 238,
      "outputs": [
        {
          "output_type": "execute_result",
          "data": {
            "text/plain": [
              "array([[ 1,  5,  0,  0,  0],\n",
              "       [ 1,  8,  5,  0,  0],\n",
              "       [ 1,  3,  5,  0,  0],\n",
              "       [ 9,  2,  0,  0,  0],\n",
              "       [ 2,  4,  3,  2,  0],\n",
              "       [ 3,  2,  0,  0,  0],\n",
              "       [ 1,  4,  6,  0,  0],\n",
              "       [ 1,  4,  6,  0,  0],\n",
              "       [ 1,  4,  2,  0,  0],\n",
              "       [ 7,  7,  3,  2, 10],\n",
              "       [ 1, 12,  3, 13,  0]], dtype=int32)"
            ]
          },
          "metadata": {},
          "execution_count": 238
        }
      ]
    },
    {
      "cell_type": "code",
      "source": [
        "# 다른 숫자를 패딩을 위한 숫자로 사용 가능\n",
        "\n",
        "last_value = len(tokenizer.word_index) + 1 # 단어 집합의 크기보다 1 큰 숫자를 사용\n",
        "padded = pad_sequences(encoded, padding='post', value=last_value)\n",
        "padded"
      ],
      "metadata": {
        "colab": {
          "base_uri": "https://localhost:8080/"
        },
        "id": "R9PRW7m0FCpf",
        "outputId": "8944faa0-6bbc-4681-aeae-eedd9be21360"
      },
      "execution_count": 240,
      "outputs": [
        {
          "output_type": "execute_result",
          "data": {
            "text/plain": [
              "array([[ 1,  5, 14, 14, 14, 14, 14],\n",
              "       [ 1,  8,  5, 14, 14, 14, 14],\n",
              "       [ 1,  3,  5, 14, 14, 14, 14],\n",
              "       [ 9,  2, 14, 14, 14, 14, 14],\n",
              "       [ 2,  4,  3,  2, 14, 14, 14],\n",
              "       [ 3,  2, 14, 14, 14, 14, 14],\n",
              "       [ 1,  4,  6, 14, 14, 14, 14],\n",
              "       [ 1,  4,  6, 14, 14, 14, 14],\n",
              "       [ 1,  4,  2, 14, 14, 14, 14],\n",
              "       [ 7,  7,  3,  2, 10,  1, 11],\n",
              "       [ 1, 12,  3, 13, 14, 14, 14]], dtype=int32)"
            ]
          },
          "metadata": {},
          "execution_count": 240
        }
      ]
    },
    {
      "cell_type": "markdown",
      "source": [
        "#### 5.3.3. 원-핫 인코딩\n",
        "\n",
        "* 단어 집합(vocabulary): 서로 다른 단어들의 집합\n",
        "* 원-핫 인코딩: 단어 집합에 있는 단어들을 가지고, 문자를 벡터의 차원으로 표현\n",
        "  1. 정수 인코딩을 수행. 각 단어에 고유한 정수를 부여\n",
        "  2. 단어의 고유한 정수를 인덱스로 간주. 해당 위치에 1을 부여\n",
        "  3. 다른 단어의 인덱스의 위치에는 0을 부여\n",
        "\n",
        "* 원-핫 벡터: 표현하고 싶은 단어의 인덱스에 1의 값을 부여하고, 다른 인덱스에는 0을 부여 \n"
      ],
      "metadata": {
        "id": "fnR2LlDyuV6X"
      }
    },
    {
      "cell_type": "markdown",
      "source": [
        "**(1) 원-핫 인코딩 기본**"
      ],
      "metadata": {
        "id": "1IDuuzDyN33c"
      }
    },
    {
      "cell_type": "code",
      "source": [
        "okt = Okt()  \n",
        "tokens = okt.morphs(\"나는 자연어 처리를 배운다\")  \n",
        "print(tokens)"
      ],
      "metadata": {
        "colab": {
          "base_uri": "https://localhost:8080/"
        },
        "id": "ZvdBLF2sNuKy",
        "outputId": "177387ad-5ea6-48f4-8406-f37eef87ea39"
      },
      "execution_count": 241,
      "outputs": [
        {
          "output_type": "stream",
          "name": "stdout",
          "text": [
            "['나', '는', '자연어', '처리', '를', '배운다']\n"
          ]
        }
      ]
    },
    {
      "cell_type": "code",
      "source": [
        "# 인덱싱\n",
        "word_to_index = {word : index for index, word in enumerate(tokens)}\n",
        "print('단어 집합 :',word_to_index)"
      ],
      "metadata": {
        "colab": {
          "base_uri": "https://localhost:8080/"
        },
        "id": "zWF6dSY4Nx02",
        "outputId": "e0e95275-a66d-43db-a091-83bca154de57"
      },
      "execution_count": 242,
      "outputs": [
        {
          "output_type": "stream",
          "name": "stdout",
          "text": [
            "단어 집합 : {'나': 0, '는': 1, '자연어': 2, '처리': 3, '를': 4, '배운다': 5}\n"
          ]
        }
      ]
    },
    {
      "cell_type": "code",
      "source": [
        "# 인코딩\n",
        "def one_hot_encoding(word, word_to_index):\n",
        "  one_hot_vector = [0]*(len(word_to_index))\n",
        "  index = word_to_index[word]\n",
        "  one_hot_vector[index] = 1\n",
        "  return one_hot_vector\n",
        "\n",
        "one_hot_encoding(\"자연어\", word_to_index)"
      ],
      "metadata": {
        "colab": {
          "base_uri": "https://localhost:8080/"
        },
        "id": "bCHtCb_ENzhL",
        "outputId": "7b4fed79-ac44-47a9-a870-e8d48f339391"
      },
      "execution_count": 243,
      "outputs": [
        {
          "output_type": "execute_result",
          "data": {
            "text/plain": [
              "[0, 0, 1, 0, 0, 0]"
            ]
          },
          "metadata": {},
          "execution_count": 243
        }
      ]
    },
    {
      "cell_type": "markdown",
      "source": [
        "**(2) 케라스를 이용한 원-핫 인코딩**"
      ],
      "metadata": {
        "id": "wNYI_eIPN7gu"
      }
    },
    {
      "cell_type": "code",
      "source": [
        "# 토큰화\n",
        "from tensorflow.keras.preprocessing.text import Tokenizer\n",
        "from tensorflow.keras.utils import to_categorical\n",
        "\n",
        "text = \"나랑 점심 먹으러 갈래 점심 메뉴는 햄버거 갈래 갈래 햄버거 최고야\"\n",
        "\n",
        "tokenizer = Tokenizer()\n",
        "tokenizer.fit_on_texts([text])\n",
        "print('단어 집합 :',tokenizer.word_index)"
      ],
      "metadata": {
        "colab": {
          "base_uri": "https://localhost:8080/"
        },
        "id": "p760ls7YN_aw",
        "outputId": "b568ca31-e071-4411-e0a4-924e526cb212"
      },
      "execution_count": 244,
      "outputs": [
        {
          "output_type": "stream",
          "name": "stdout",
          "text": [
            "단어 집합 : {'갈래': 1, '점심': 2, '햄버거': 3, '나랑': 4, '먹으러': 5, '메뉴는': 6, '최고야': 7}\n"
          ]
        }
      ]
    },
    {
      "cell_type": "code",
      "source": [
        "# 인덱싱\n",
        "sub_text = \"점심 먹으러 갈래 메뉴는 햄버거 최고야\"\n",
        "encoded = tokenizer.texts_to_sequences([sub_text])[0]\n",
        "print(encoded)"
      ],
      "metadata": {
        "colab": {
          "base_uri": "https://localhost:8080/"
        },
        "id": "kH0N0vxhOBck",
        "outputId": "2f564041-99ce-4b03-d6d8-e29cc77ab16c"
      },
      "execution_count": 245,
      "outputs": [
        {
          "output_type": "stream",
          "name": "stdout",
          "text": [
            "[2, 5, 1, 6, 3, 7]\n"
          ]
        }
      ]
    },
    {
      "cell_type": "code",
      "source": [
        "# 인코딩\n",
        "one_hot = to_categorical(encoded)\n",
        "print(one_hot)"
      ],
      "metadata": {
        "colab": {
          "base_uri": "https://localhost:8080/"
        },
        "id": "UVyRP_uuOD2p",
        "outputId": "52a8a139-d68b-4b19-c0ba-958fa18084c4"
      },
      "execution_count": 247,
      "outputs": [
        {
          "output_type": "stream",
          "name": "stdout",
          "text": [
            "[[0. 0. 1. 0. 0. 0. 0. 0.]\n",
            " [0. 0. 0. 0. 0. 1. 0. 0.]\n",
            " [0. 1. 0. 0. 0. 0. 0. 0.]\n",
            " [0. 0. 0. 0. 0. 0. 1. 0.]\n",
            " [0. 0. 0. 1. 0. 0. 0. 0.]\n",
            " [0. 0. 0. 0. 0. 0. 0. 1.]]\n"
          ]
        }
      ]
    },
    {
      "cell_type": "markdown",
      "source": [
        "### 5.4. 데이터 분리\n",
        "\n",
        "* 머신 러닝 모델을 학습시키고 평가하기 위해서는 데이터를 적절하게 분리하는 작업이 필요\n",
        "* 지도 학습을 위한 데이터 분리 작업"
      ],
      "metadata": {
        "id": "ZRTH3RhgspYJ"
      }
    },
    {
      "cell_type": "markdown",
      "source": [
        "**(1) 지도학습**\n",
        "* 지도학습 데이터의 구성\n",
        "  * 정답이 무엇인지 맞춰 하는 데이터 (문제)\n",
        "  * 레이블이라고 부르는 데이터 (정답)\n",
        "* 기계는 문제와 정답을 함께 보면서 훈련하고, 향후에 정답이 없는 문제에 대해서도 예측해야 함\n"
      ],
      "metadata": {
        "id": "cHZqtmakOind"
      }
    },
    {
      "cell_type": "markdown",
      "source": [
        "**(2) X와 Y 분리**"
      ],
      "metadata": {
        "id": "QUYkPTnkPJhu"
      }
    },
    {
      "cell_type": "code",
      "source": [
        "# zip 함수를 이용한 분리\n",
        "X, y = zip(['a', 1], ['b', 2], ['c', 3])\n",
        "print('X 데이터 :',X)\n",
        "print('y 데이터 :',y)\n",
        "print('-' * 25)\n",
        "\n",
        "## 리스트의 리스트 또는 행렬 또는 뒤에서 배울 개념인 2D 텐서.\n",
        "sequences = [['a', 1], ['b', 2], ['c', 3]]\n",
        "X, y = zip(*sequences)\n",
        "print('X 데이터 :',X)\n",
        "print('y 데이터 :',y)"
      ],
      "metadata": {
        "colab": {
          "base_uri": "https://localhost:8080/"
        },
        "id": "RAsRFzN4PJaU",
        "outputId": "cf2937d3-eefe-426d-a6f8-fb8b7b4a5320"
      },
      "execution_count": 267,
      "outputs": [
        {
          "output_type": "stream",
          "name": "stdout",
          "text": [
            "X 데이터 : ('a', 'b', 'c')\n",
            "y 데이터 : (1, 2, 3)\n",
            "-------------------------\n",
            "X 데이터 : ('a', 'b', 'c')\n",
            "y 데이터 : (1, 2, 3)\n"
          ]
        }
      ]
    },
    {
      "cell_type": "code",
      "source": [
        "# 데이터프레임을 이용하여 분리\n",
        "values = [['당신에게 드리는 마지막 혜택!', 1],\n",
        "['내일 뵐 수 있을지 확인 부탁드...', 0],\n",
        "['철수씨. 잘 지내시죠? 오랜만입...', 0],\n",
        "['(광고) AI로 주가를 예측할 수 있다!', 1]]\n",
        "\n",
        "columns = ['메일 본문', '스팸 메일 유무']\n",
        "\n",
        "df = pd.DataFrame(values, columns=columns)\n",
        "print('df :')\n",
        "print(df)\n",
        "print('-' * 45)\n",
        "\n",
        "X = df['메일 본문']\n",
        "y = df['스팸 메일 유무']\n",
        "\n",
        "print('X 데이터 :',X.to_list())\n",
        "print('y 데이터 :',y.to_list())"
      ],
      "metadata": {
        "colab": {
          "base_uri": "https://localhost:8080/"
        },
        "id": "WUxrz4fdOh6v",
        "outputId": "d82a89eb-d659-4e95-a1d8-47c9e8ef117b"
      },
      "execution_count": 271,
      "outputs": [
        {
          "output_type": "stream",
          "name": "stdout",
          "text": [
            "df :\n",
            "                    메일 본문  스팸 메일 유무\n",
            "0        당신에게 드리는 마지막 혜택!         1\n",
            "1    내일 뵐 수 있을지 확인 부탁드...         0\n",
            "2    철수씨. 잘 지내시죠? 오랜만입...         0\n",
            "3  (광고) AI로 주가를 예측할 수 있다!         1\n",
            "---------------------------------------------\n",
            "X 데이터 : ['당신에게 드리는 마지막 혜택!', '내일 뵐 수 있을지 확인 부탁드...', '철수씨. 잘 지내시죠? 오랜만입...', '(광고) AI로 주가를 예측할 수 있다!']\n",
            "y 데이터 : [1, 0, 0, 1]\n"
          ]
        }
      ]
    },
    {
      "cell_type": "code",
      "source": [
        "# Numpy를 이용하여 분리\n",
        "np_array = np.arange(0,16).reshape((4,4))\n",
        "print('전체 데이터 :')\n",
        "print(np_array)\n",
        "print('-' * 20)\n",
        "\n",
        "X = np_array[:, :3]\n",
        "y = np_array[:,3]\n",
        "\n",
        "print('X 데이터 :')\n",
        "print(X)\n",
        "print('y 데이터 :',y)"
      ],
      "metadata": {
        "colab": {
          "base_uri": "https://localhost:8080/"
        },
        "id": "p5UV_3QfPscY",
        "outputId": "e845c686-0cf3-4310-eccb-7de03ce920e9"
      },
      "execution_count": 265,
      "outputs": [
        {
          "output_type": "stream",
          "name": "stdout",
          "text": [
            "전체 데이터 :\n",
            "[[ 0  1  2  3]\n",
            " [ 4  5  6  7]\n",
            " [ 8  9 10 11]\n",
            " [12 13 14 15]]\n",
            "--------------------\n",
            "X 데이터 :\n",
            "[[ 0  1  2]\n",
            " [ 4  5  6]\n",
            " [ 8  9 10]\n",
            " [12 13 14]]\n",
            "y 데이터 : [ 3  7 11 15]\n"
          ]
        }
      ]
    },
    {
      "cell_type": "code",
      "source": [
        "# 사이킷 런을 이용하여 분리\n",
        "from sklearn.model_selection import train_test_split\n",
        "\n",
        "## 임의로 X와 y 데이터를 생성\n",
        "X, y = np.arange(10).reshape((5, 2)), range(5)\n",
        "\n",
        "print('X 전체 데이터 :')\n",
        "print(X)\n",
        "print('y 전체 데이터 :')\n",
        "print(list(y))\n",
        "print('-' * 20)\n",
        "\n",
        "# 7:3의 비율로 훈련 데이터와 테스트 데이터 분리\n",
        "X_train, X_test, y_train, y_test = train_test_split(\n",
        "    X, y, test_size=0.3, random_state=1234\n",
        ")\n",
        "\n",
        "print('X 훈련 데이터 :')\n",
        "print(X_train)\n",
        "print('X 테스트 데이터 :')\n",
        "print(X_test)\n",
        "print('-' * 20)\n",
        "\n",
        "print('y 훈련 데이터 :')\n",
        "print(y_train)\n",
        "print('y 테스트 데이터 :')\n",
        "print(y_test)"
      ],
      "metadata": {
        "colab": {
          "base_uri": "https://localhost:8080/"
        },
        "id": "KVUV2AkZQETL",
        "outputId": "0eb768da-7850-465c-b35e-5b4273d75e56"
      },
      "execution_count": 272,
      "outputs": [
        {
          "output_type": "stream",
          "name": "stdout",
          "text": [
            "X 전체 데이터 :\n",
            "[[0 1]\n",
            " [2 3]\n",
            " [4 5]\n",
            " [6 7]\n",
            " [8 9]]\n",
            "y 전체 데이터 :\n",
            "[0, 1, 2, 3, 4]\n",
            "--------------------\n",
            "X 훈련 데이터 :\n",
            "[[2 3]\n",
            " [4 5]\n",
            " [6 7]]\n",
            "X 테스트 데이터 :\n",
            "[[8 9]\n",
            " [0 1]]\n",
            "--------------------\n",
            "y 훈련 데이터 :\n",
            "[1, 2, 3]\n",
            "y 테스트 데이터 :\n",
            "[4, 0]\n"
          ]
        }
      ]
    },
    {
      "cell_type": "code",
      "source": [
        "# 수동으로 분리\n",
        "## 임의로 X와 y 데이터를 생성\n",
        "X, y = np.arange(0,24).reshape((12,2)), range(12)\n",
        "print('X 전체 데이터 :')\n",
        "print(X)\n",
        "print('y 전체 데이터 :')\n",
        "print(list(y))\n",
        "print('-' * 40)\n",
        "\n",
        "num_of_train = int(len(X) * 0.8) # 데이터의 전체 길이의 80%에 해당하는 길이값을 구한다.\n",
        "num_of_test = int(len(X) - num_of_train) # 전체 길이에서 80%에 해당하는 길이를 뺀다.\n",
        "print('훈련 데이터의 크기 :',num_of_train)\n",
        "print('테스트 데이터의 크기 :',num_of_test)\n",
        "print('-' * 40)\n",
        "\n",
        "X_test = X[num_of_train:] # 전체 데이터 중에서 20%만큼 뒤의 데이터 저장\n",
        "y_test = y[num_of_train:] # 전체 데이터 중에서 20%만큼 뒤의 데이터 저장\n",
        "X_train = X[:num_of_train] # 전체 데이터 중에서 80%만큼 앞의 데이터 저장\n",
        "y_train = y[:num_of_train] # 전체 데이터 중에서 80%만큼 앞의 데이터 저장\n",
        "print('X 테스트 데이터 :')\n",
        "print(X_test)\n",
        "print('y 테스트 데이터 :')\n",
        "print(list(y_test))"
      ],
      "metadata": {
        "colab": {
          "base_uri": "https://localhost:8080/"
        },
        "id": "2zyos3n_Q77w",
        "outputId": "d5ecf8c2-fb69-4191-c749-3fa0c8f7d50d"
      },
      "execution_count": 281,
      "outputs": [
        {
          "output_type": "stream",
          "name": "stdout",
          "text": [
            "X 전체 데이터 :\n",
            "[[ 0  1]\n",
            " [ 2  3]\n",
            " [ 4  5]\n",
            " [ 6  7]\n",
            " [ 8  9]\n",
            " [10 11]\n",
            " [12 13]\n",
            " [14 15]\n",
            " [16 17]\n",
            " [18 19]\n",
            " [20 21]\n",
            " [22 23]]\n",
            "y 전체 데이터 :\n",
            "[0, 1, 2, 3, 4, 5, 6, 7, 8, 9, 10, 11]\n",
            "----------------------------------------\n",
            "훈련 데이터의 크기 : 9\n",
            "테스트 데이터의 크기 : 3\n",
            "----------------------------------------\n",
            "X 테스트 데이터 :\n",
            "[[18 19]\n",
            " [20 21]\n",
            " [22 23]]\n",
            "y 테스트 데이터 :\n",
            "[9, 10, 11]\n"
          ]
        }
      ]
    }
  ]
}