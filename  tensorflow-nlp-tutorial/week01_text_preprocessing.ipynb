{
  "nbformat": 4,
  "nbformat_minor": 0,
  "metadata": {
    "colab": {
      "name": "Untitled4.ipynb",
      "provenance": [],
      "authorship_tag": "ABX9TyOodD/ZMS8L6S6HMSUVt7f6",
      "include_colab_link": true
    },
    "kernelspec": {
      "name": "python3",
      "display_name": "Python 3"
    },
    "language_info": {
      "name": "python"
    }
  },
  "cells": [
    {
      "cell_type": "markdown",
      "metadata": {
        "id": "view-in-github",
        "colab_type": "text"
      },
      "source": [
        "<a href=\"https://colab.research.google.com/github/sheon-j/nlp-study/blob/main/%20tensorflow-nlp-tutorial/week01_text_preprocessing.ipynb\" target=\"_parent\"><img src=\"https://colab.research.google.com/assets/colab-badge.svg\" alt=\"Open In Colab\"/></a>"
      ]
    },
    {
      "cell_type": "markdown",
      "source": [
        "# NLP Study: Week 1\n",
        "\n",
        "[딥 러닝을 이용한 자연어 처리 입문](https://wikidocs.net/book/2155) 스터디\n",
        "\n",
        "---\n",
        "\n",
        "**Contents**\n",
        "1. 머신 러닝 워크플로우\n",
        "2. 텍스트 전처리\n",
        "\n",
        "\n",
        "\n"
      ],
      "metadata": {
        "id": "CFzHNZcrwYf3"
      }
    },
    {
      "cell_type": "markdown",
      "source": [
        "## 1. 머신 러닝 워크플로우\n",
        "\n",
        "데이터를 수집하고 머신 러닝을 하는 과정을 크게 6가지로 나누면, 아래의 그림과 같다.\n",
        "\n",
        "![ml_workflow](https://wikidocs.net/images/page/31947/머신_러닝_워크플로우.PNG)\n",
        "\n",
        "### 1.1. 수집\n",
        "* 머신 러닝을 하기 위해서는 기계에 학습시켜야 할 데이터\n",
        "* 자연어 데이터를 말뭉치 또는 코퍼스(corpus)라 부름\n",
        "* 조사나 연구 목적에 의해서 특정 도메인으로부터 수집된 텍스트 집합\n",
        "\n",
        "### 1.2. 점검 및 탐색\n",
        "* 데이터의 구조, 노이즈 데이터, 머신 러닝 적용을 위해서 데이터를 어떻게 정제해야하는지 등을 파악\n",
        "* 탐색적 데이터 분석(Exploratory Data Analysis, EDA)\n",
        "* 독립 변수, 종속 변수, 변수 유형, 변수의 데이터 타입 등을 점검\n",
        "* 데이터의 특징과 내재하는 구조적 관계를 알아내는 과정\n",
        "* 시각화와 간단한 통계 테스트를 진행\n",
        "\n",
        "### 1.3. 전처리 및 정제\n",
        "* 자연어 처리라면 토큰화, 정제, 정규화, 불용어 제거 등의 단계를 포함\n",
        "* 전처리를 위한 다양한 라이브러리에 대한 지식이 필요\n",
        "* 까다로운 전처리 과정은 머신 러닝이 사용되기도 함\n",
        "\n",
        "### 1.4. 모델링 및 훈련\n",
        "* 머신 러닝에 대한 코드를 작성하는 단계\n",
        "* 적절한 머신 러닝 알고리즘을 선택하여 모델링\n",
        "* 전처리 된 데이터를 머신 러닝 알고리즘을 통해 기계에 학습\n",
        "* 훈련 후 기계는 원하는 태스크인 기계 번역, 음성 인식, 텍스트 분류 등의 자연어 처리 작업을 수행\n",
        "* 데이터 중 일부는 테스트용으로 남겨두고 훈련용 데이터만 훈련에 사용\n",
        "* 성능이 얼마나 되는지를 측정, 과적합 상황을 막음\n",
        "* 최선은 훈련용, 검증용, 테스트용의 세 가지 데이터로 나누고 훈련용 데이터만 훈련에 사용\n",
        "\n",
        "### 1.5. 평가\n",
        "* 테스트용 데이터로 성능을 평가\n",
        "* 기계가 예측한 데이터가 테스트용 데이터의 실제 정답과 얼마나 가까운지를 측정\n",
        "\n",
        "### 1.6. 배포\n",
        "* 완성된 모델이 배포되는 단계\n",
        "* 피드백으로 모델 업데이트 상황이 온다면 수집 단계로 돌아감\n"
      ],
      "metadata": {
        "id": "OD-ZrhL1xpQX"
      }
    },
    {
      "cell_type": "markdown",
      "source": [
        "## 2. 텍스트 전처리\n"
      ],
      "metadata": {
        "id": "-82Iw6YA0XVN"
      }
    },
    {
      "cell_type": "code",
      "source": [
        ""
      ],
      "metadata": {
        "id": "kYKS7fwnxkxb"
      },
      "execution_count": null,
      "outputs": []
    }
  ]
}